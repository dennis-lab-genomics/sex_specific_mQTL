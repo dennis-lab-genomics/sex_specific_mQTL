{
 "cells": [
  {
   "cell_type": "markdown",
   "id": "accessory-pitch",
   "metadata": {},
   "source": [
    "# Exploring Delahaye mQTLs: Replication, Cleaning, and Enrichment\n",
    "Goals:\n",
    "1. Load in data and assess replication between Placental Regulation (Delahaye) dataset, RICHS, and Placental data from the Robinson Lab\n",
    "1. Assess effect of genotype dosage on number of significant mQTLs, repeating for sex-stratified dosage filters\n",
    "1. Assess hits that stand-up to \"fine mapping\"\n",
    "1. Assess effect sizes of sex-specific hits in terms of differences in allelic fold-change (aFC)\n",
    "1. Categorize hits based on their position relative to CpG islands and chromosome position"
   ]
  },
  {
   "cell_type": "code",
   "execution_count": 2,
   "id": "incorporate-bones",
   "metadata": {},
   "outputs": [
    {
     "name": "stderr",
     "output_type": "stream",
     "text": [
      "Matplotlib created a temporary config/cache directory at /tmp/pbs.2118086.pbsha.ib.sockeye/matplotlib-fwwfofxs because the default path (/home/jovyan/.cache/matplotlib) is not a writable directory; it is highly recommended to set the MPLCONFIGDIR environment variable to a writable directory, in particular to speed up the import of Matplotlib and to better support multiprocessing.\n"
     ]
    }
   ],
   "source": [
    "import dask.dataframe as dd\n",
    "import dask.array as da\n",
    "import pandas as pd\n",
    "import numpy as np\n",
    "import matplotlib.pyplot as plt\n",
    "%load_ext rpy2.ipython"
   ]
  },
  {
   "cell_type": "markdown",
   "id": "imperial-mirror",
   "metadata": {},
   "source": [
    "## Replication assessment\n",
    "### Loading in marginal data \n",
    "This is slightly faster in python, I have saved large datasets as a parquet file, which can be read using `pandas` and `pyarrow` in python, and the `arrow` library in R."
   ]
  },
  {
   "cell_type": "code",
   "execution_count": 3,
   "id": "hearing-seven",
   "metadata": {},
   "outputs": [
    {
     "name": "stdout",
     "output_type": "stream",
     "text": [
      "CPU times: user 17.5 ms, sys: 12.5 ms, total: 30 ms\n",
      "Wall time: 302 ms\n"
     ]
    }
   ],
   "source": [
    "%%time\n",
    "delahaye = dd.read_parquet(\"../../delahaye_QC/matrix_eqtl_data/cis_mQTL_9_methy_PC_all.parquet\")"
   ]
  },
  {
   "cell_type": "markdown",
   "id": "anticipated-landscape",
   "metadata": {},
   "source": [
    "Just checking that enrichment is what I would expect for cis-mQTL analysis (mostly uniform other than many hits due to enrichment of signal in *cis*)."
   ]
  },
  {
   "cell_type": "code",
   "execution_count": 3,
   "id": "impaired-bunch",
   "metadata": {
    "tags": []
   },
   "outputs": [
    {
     "name": "stdout",
     "output_type": "stream",
     "text": [
      "CPU times: user 3min, sys: 30.3 s, total: 3min 30s\n",
      "Wall time: 2min 39s\n"
     ]
    },
    {
     "data": {
      "text/plain": [
       "<matplotlib.lines.Line2D at 0x2aac853fc550>"
      ]
     },
     "execution_count": 3,
     "metadata": {},
     "output_type": "execute_result"
    },
    {
     "data": {
      "image/png": "[encoded data removed]",
      "text/plain": [
       "<Figure size 432x288 with 1 Axes>"
      ]
     },
     "metadata": {
      "needs_background": "light"
     },
     "output_type": "display_data"
    }
   ],
   "source": [
    "%%time\n",
    "hist, bins = da.histogram(delahaye['p-value'],bins=100, range=[0,1])\n",
    "hist = hist.compute()\n",
    "x = 0.5 * (bins[1:] + bins[:-1])\n",
    "width = np.diff(bins)\n",
    "plt.bar(x, hist, width);\n",
    "plt.axhline(y=hist.sum() / 100.0, linestyle='--', color='black')"
   ]
  },
  {
   "cell_type": "markdown",
   "id": "aggregate-zimbabwe",
   "metadata": {
    "tags": []
   },
   "source": [
    "Loading in remaining data:"
   ]
  },
  {
   "cell_type": "code",
   "execution_count": 4,
   "id": "different-egypt",
   "metadata": {},
   "outputs": [],
   "source": [
    "richs = dd.read_parquet(\"../../RICHS_QC/matrix_eqtl_data/cis_mQTL_9_methy_PC_all.parquet\")\n",
    "robinson = dd.read_parquet(\"../../robinson_results/cis_impute_mQTL_results_6_methy_PC.parquet\")"
   ]
  },
  {
   "cell_type": "markdown",
   "id": "final-premises",
   "metadata": {},
   "source": [
    "### Replication of marginal signals"
   ]
  },
  {
   "cell_type": "code",
   "execution_count": 16,
   "id": "applied-gambling",
   "metadata": {},
   "outputs": [
    {
     "name": "stdout",
     "output_type": "stream",
     "text": [
      "CPU times: user 5min 27s, sys: 57.1 s, total: 6min 24s\n",
      "Wall time: 5min 9s\n"
     ]
    }
   ],
   "source": [
    "%%time\n",
    "def run_replication(df1,df2):\n",
    "    return df2.merge(df1, on=['SNP','gene'])\n",
    "\n",
    "# Make data frame of hits and then filter for parallel merge\n",
    "richs_hits = richs[richs['FDR'] < 0.05].compute()\n",
    "robinson_hits =robinson[robinson['FDR'] < 0.05].compute()\n",
    "delahaye_hits = delahaye[delahaye['FDR'] < 0.05].compute()\n",
    "\n",
    "# Retrieve hits pvalues in df2 corresponding to hits in df1\n",
    "delahaye_richs = run_replication(delahaye_hits, richs)\n",
    "richs_delahaye = run_replication(richs_hits, delahaye)\n",
    "delahaye_robinson = run_replication(delahaye_hits, robinson)\n",
    "robinson_delahaye = run_replication(robinson_hits,delahaye)"
   ]
  },
  {
   "cell_type": "code",
   "execution_count": 7,
   "id": "private-square",
   "metadata": {
    "tags": []
   },
   "outputs": [],
   "source": [
    "delahaye_richs_p = delahaye_richs['p-value_x'].compute()\n",
    "richs_delahaye_p = richs_delahaye['p-value_x'].compute()\n",
    "delahaye_robinson_p = delahaye_robinson['p-value_x'].compute()\n",
    "robinson_delahaye_p = robinson_delahaye['p-value_x'].compute()"
   ]
  },
  {
   "cell_type": "code",
   "execution_count": 8,
   "id": "meaningful-appraisal",
   "metadata": {},
   "outputs": [
    {
     "name": "stderr",
     "output_type": "stream",
     "text": [
      "WARNING:rpy2.rinterface_lib.callbacks:R[write to console]: Registered S3 methods overwritten by 'ggplot2':\n",
      "  method         from \n",
      "  [.quosures     rlang\n",
      "  c.quosures     rlang\n",
      "  print.quosures rlang\n",
      "\n"
     ]
    },
    {
     "name": "stdout",
     "output_type": "stream",
     "text": [
      "[1] 0.7401157\n",
      "[1] 0.8158023\n",
      "[1] 0.726035\n",
      "[1] 0.8115302\n"
     ]
    }
   ],
   "source": [
    "%%R -i delahaye_richs_p,richs_delahaye_p,delahaye_robinson_p,robinson_delahaye_p\n",
    "library(qvalue)\n",
    "print(1 - pi0est(na.omit(delahaye_richs_p))$pi0)\n",
    "print(1 - pi0est(na.omit(richs_delahaye_p))$pi0)\n",
    "print(1 - pi0est(na.omit(delahaye_robinson_p))$pi0)\n",
    "print(1 - pi0est(na.omit(robinson_delahaye_p))$pi0)"
   ]
  },
  {
   "cell_type": "markdown",
   "id": "sunset-beach",
   "metadata": {},
   "source": [
    "### Loading in sex-specific signals"
   ]
  },
  {
   "cell_type": "code",
   "execution_count": 5,
   "id": "acknowledged-patrol",
   "metadata": {},
   "outputs": [],
   "source": [
    "delahaye_sex = dd.read_parquet(\"../../delahaye_QC/matrix_eqtl_data/cis_mQTL_9_methy_PC_all_sex_interaction.parquet\")\n",
    "richs_sex = dd.read_parquet(\"../../RICHS_QC/matrix_eqtl_data/cis_mQTL_9_methy_PC_all_sex_interaction.parquet\")\n",
    "robinson_sex = dd.read_parquet(\"../../robinson_results/cis_int_sex_impute_mQTL_results_6_methy_PC.parquet\")"
   ]
  },
  {
   "cell_type": "markdown",
   "id": "architectural-senegal",
   "metadata": {},
   "source": [
    "The number of overlapping hits is fairly small so the $\\pi_1$ metric will not be very useful. Instead I'll just assess overlap in hits:"
   ]
  },
  {
   "cell_type": "code",
   "execution_count": 28,
   "id": "tender-auditor",
   "metadata": {
    "tags": []
   },
   "outputs": [
    {
     "name": "stdout",
     "output_type": "stream",
     "text": [
      "80363\n",
      "53204\n",
      "12922\n",
      "21225\n",
      "CPU times: user 13min 58s, sys: 2min 14s, total: 16min 12s\n",
      "Wall time: 9min 59s\n"
     ]
    }
   ],
   "source": [
    "%%time \n",
    "# Make data frame of hits and then filter for parallel merge\n",
    "richs_hits_sex = richs_sex[richs_sex['FDR'] < 0.05].compute()\n",
    "robinson_hits_sex =robinson_sex[robinson_sex['FDR'] < 0.05].compute()\n",
    "delahaye_hits_sex = delahaye_sex[delahaye_sex['FDR'] < 0.05].compute()\n",
    "\n",
    "delahaye_richs_sex = run_replication(delahaye_hits_sex, richs_sex).compute()\n",
    "richs_delahaye_sex = run_replication(richs_hits_sex, delahaye_sex).compute()\n",
    "delahaye_robinson_sex = run_replication(delahaye_hits_sex, robinson_sex).compute()\n",
    "robinson_delahaye_sex = run_replication(robinson_hits_sex, delahaye_sex).compute()\n",
    "\n",
    "print(len(delahaye_richs_sex))\n",
    "print(len(richs_delahaye_sex))\n",
    "print(len(delahaye_robinson_sex))\n",
    "print(len(robinson_delahaye_sex))"
   ]
  },
  {
   "cell_type": "markdown",
   "id": "exterior-season",
   "metadata": {},
   "source": [
    "The number of CpG sites with at least one sb-mQTL:"
   ]
  },
  {
   "cell_type": "code",
   "execution_count": 31,
   "id": "built-assault",
   "metadata": {},
   "outputs": [
    {
     "name": "stdout",
     "output_type": "stream",
     "text": [
      "20874\n",
      "11275\n",
      "3204\n",
      "3998\n"
     ]
    }
   ],
   "source": [
    "print(len(delahaye_richs_sex['gene'].unique()))\n",
    "print(len(richs_delahaye_sex['gene'].unique()))\n",
    "print(len(delahaye_robinson_sex['gene'].unique()))\n",
    "print(len(robinson_delahaye_sex['gene'].unique()))"
   ]
  },
  {
   "cell_type": "markdown",
   "id": "magnetic-history",
   "metadata": {
    "tags": []
   },
   "source": [
    "## Effect of genotype dosage on number of mQTLs in Delahaye data\n",
    "### Marginal\n",
    "#### Loading in required data\n",
    "**Required data:**\n",
    "* Minor allele frequencies (`.afreq` file)\n",
    "* Marginal hits (computed on dask dataframe)\n"
   ]
  },
  {
   "cell_type": "code",
   "execution_count": 7,
   "id": "binding-relationship",
   "metadata": {},
   "outputs": [],
   "source": [
    "delahaye_maf = pd.read_csv(\"../../delahaye_QC/placenta_regulatory_landscape/RootStudyConsentSet_phs001717.PlacentalRegulation.v1.p1.c1.HMB-IRB-PUB-COL-MDS/genotype_qc/all_imputed_r2_30_rsid.afreq\",sep='\\s+')\n",
    "if not \"delahaye_hits\" in vars():\n",
    "    delahaye_hits = delahaye[delahaye['FDR'] < 0.05].compute()\n"
   ]
  },
  {
   "cell_type": "markdown",
   "id": "adverse-regard",
   "metadata": {},
   "source": [
    "#### Filtering\n",
    "By default `plink` filters minor allele frequency (MAF) at one end. I.e. if I filter using the command\n",
    "```bash\n",
    "plink --bfile data\\\n",
    "    --maf 0.01\\\n",
    "    --make-bed\\\n",
    "    --out data_filtered\n",
    "```\n",
    "the resulting files will still contain SNPs with MAF > 0.99. I didn't account for this when running `matrixEQTL` to run associations so I'm going to account for it now, and test MAF thresholds at 0.05 as well."
   ]
  },
  {
   "cell_type": "code",
   "execution_count": 27,
   "id": "catholic-telescope",
   "metadata": {},
   "outputs": [
    {
     "name": "stdout",
     "output_type": "stream",
     "text": [
      "Delahaye hits: 8712448\n",
      "Delahaye hits at true MAF > 0.01 : 7649972\n",
      "Delahaye hits at true MAF > 0.05 : 6498652\n",
      "CpGs with one hit in Delahaye: 275806\n",
      "CpGs with one hit in Delahaye at true MAF > 0.01 : 203617\n",
      "CpGs with one hit in Delahaye at true MAF > 0.05 : 164780\n"
     ]
    }
   ],
   "source": [
    "# Get SNPs at specified threshold\n",
    "maf01 = delahaye_maf[(delahaye_maf['ALT_FREQS'] >= 0.01) & (delahaye_maf['ALT_FREQS'] <= 0.99)]['ID']\n",
    "maf05 = delahaye_maf[(delahaye_maf['ALT_FREQS'] >= 0.05) & (delahaye_maf['ALT_FREQS'] <= 0.95)]['ID']\n",
    "\n",
    "# Filter hits\n",
    "print(f\"Delahaye hits: {len(delahaye_hits)}\")\n",
    "print(f\"Delahaye hits at true MAF > 0.01 : {len(delahaye_hits[delahaye_hits['SNP'].isin(maf01)])}\")\n",
    "print(f\"Delahaye hits at true MAF > 0.05 : {len(delahaye_hits[delahaye_hits['SNP'].isin(maf05)])}\")\n",
    "# Unique\n",
    "print(f\"CpGs with one hit in Delahaye: {len(delahaye_hits['gene'].unique())}\")\n",
    "print(f\"CpGs with one hit in Delahaye at true MAF > 0.01 : {len(delahaye_hits[delahaye_hits['SNP'].isin(maf01)]['gene'].unique())}\")\n",
    "print(f\"CpGs with one hit in Delahaye at true MAF > 0.05 : {len(delahaye_hits[delahaye_hits['SNP'].isin(maf05)]['gene'].unique())}\")"
   ]
  },
  {
   "cell_type": "markdown",
   "id": "contemporary-recycling",
   "metadata": {},
   "source": [
    "### Sex-specific\n",
    "#### Loading in required data\n",
    "**Required data:**\n",
    "* Genotypes for sex-specific hits (for sex specific minor allele frequencies)\n",
    "* Sex labels\n",
    "* Sex specific hits (computed on dask dataframe)"
   ]
  },
  {
   "cell_type": "code",
   "execution_count": 10,
   "id": "downtown-practitioner",
   "metadata": {},
   "outputs": [],
   "source": [
    "if not \"delahaye_hits_sex\" in vars():\n",
    "    delahaye_hits_sex = delahaye_sex[delahaye_sex['FDR'] < 0.05].compute()\n",
    "\n",
    "# Filter SNPs to those in hits\n",
    "genotypes = dd.read_csv(\"../../delahaye_QC/matrix_eqtl_data/all_imputed_matrixeQTL.txt\", sep='\\s+')\n",
    "genotypes = genotypes[genotypes['SNP'].isin(delahaye_hits_sex['SNP'])].compute()\n",
    "\n",
    "# Read in metadata\n",
    "metadata = pd.read_csv(\"../../delahaye_QC/matrix_eqtl_data/mQTL_covar_9_methy_PC.txt\", sep='\\s+')"
   ]
  },
  {
   "cell_type": "markdown",
   "id": "black-germany",
   "metadata": {},
   "source": [
    "#### Filtering\n",
    "The filters to try here are:\n",
    "1. Global MAF filters of 0.01, 0.05 (tested on marginal hits in previous section)\n",
    "1. Dosage filters requireing 0.01, 0.05 subjects in each dosage group\n",
    "1. Sex specific MAF and dosage filters"
   ]
  },
  {
   "cell_type": "code",
   "execution_count": 115,
   "id": "willing-shepherd",
   "metadata": {},
   "outputs": [
    {
     "data": {
      "text/html": [
       "<div>\n",
       "<style scoped>\n",
       "    .dataframe tbody tr th:only-of-type {\n",
       "        vertical-align: middle;\n",
       "    }\n",
       "\n",
       "    .dataframe tbody tr th {\n",
       "        vertical-align: top;\n",
       "    }\n",
       "\n",
       "    .dataframe thead th {\n",
       "        text-align: right;\n",
       "    }\n",
       "</style>\n",
       "<table border=\"1\" class=\"dataframe\">\n",
       "  <thead>\n",
       "    <tr style=\"text-align: right;\">\n",
       "      <th></th>\n",
       "      <th>group</th>\n",
       "      <th>MAF</th>\n",
       "      <th>True MAF</th>\n",
       "      <th>dosage</th>\n",
       "    </tr>\n",
       "  </thead>\n",
       "  <tbody>\n",
       "    <tr>\n",
       "      <th>0</th>\n",
       "      <td>all</td>\n",
       "      <td>0.01</td>\n",
       "      <td>4616</td>\n",
       "      <td>0</td>\n",
       "    </tr>\n",
       "    <tr>\n",
       "      <th>1</th>\n",
       "      <td>males</td>\n",
       "      <td>0.01</td>\n",
       "      <td>4595</td>\n",
       "      <td>0</td>\n",
       "    </tr>\n",
       "    <tr>\n",
       "      <th>2</th>\n",
       "      <td>females</td>\n",
       "      <td>0.01</td>\n",
       "      <td>4576</td>\n",
       "      <td>0</td>\n",
       "    </tr>\n",
       "    <tr>\n",
       "      <th>3</th>\n",
       "      <td>all</td>\n",
       "      <td>0.05</td>\n",
       "      <td>3984</td>\n",
       "      <td>0</td>\n",
       "    </tr>\n",
       "    <tr>\n",
       "      <th>4</th>\n",
       "      <td>males</td>\n",
       "      <td>0.05</td>\n",
       "      <td>3797</td>\n",
       "      <td>0</td>\n",
       "    </tr>\n",
       "    <tr>\n",
       "      <th>5</th>\n",
       "      <td>females</td>\n",
       "      <td>0.05</td>\n",
       "      <td>3886</td>\n",
       "      <td>0</td>\n",
       "    </tr>\n",
       "  </tbody>\n",
       "</table>\n",
       "</div>"
      ],
      "text/plain": [
       "     group   MAF  True MAF  dosage\n",
       "0      all  0.01      4616       0\n",
       "1    males  0.01      4595       0\n",
       "2  females  0.01      4576       0\n",
       "3      all  0.05      3984       0\n",
       "4    males  0.05      3797       0\n",
       "5  females  0.05      3886       0"
      ]
     },
     "execution_count": 115,
     "metadata": {},
     "output_type": "execute_result"
    }
   ],
   "source": [
    "def maf_filter(geno, N, maf): # SNP, genotypes, subjects\n",
    "    freq = ((2 * geno.iloc[:,1:].sum(axis=1)) / N).to_numpy()\n",
    "    return geno['SNP'][(freq >= maf) & (freq <= (1.0 - maf))]\n",
    "\n",
    "def dosage_filter(dosage_freq, N, maf):\n",
    "    filt = dosage_freq / N\n",
    "    filt0 = (filt[[0]] <= maf).to_numpy().flatten() & (filt[[0]] >= (1.0 - maf)).to_numpy().flatten()\n",
    "    filt1 = (filt[[1]] <= maf).to_numpy().flatten() & (filt[[1]] >= (1.0 - maf)).to_numpy().flatten()\n",
    "    filt2 = (filt[[2]] <= maf).to_numpy().flatten() & (filt[[2]] >= (1.0 - maf)).to_numpy().flatten()\n",
    "    return dosage_freq.index[filt0 & filt1 & filt2]\n",
    "\n",
    "male_ix = metadata[metadata['id'] == \"Sex\"].iloc[:,1:] == 1\n",
    "female_ix = metadata[metadata['id'] == \"Sex\"].iloc[:,1:] == 0\n",
    "males = ['SNP'] + metadata.columns[1:][male_ix.to_numpy().flatten()].tolist()\n",
    "females = ['SNP'] + metadata.columns[1:][female_ix.to_numpy().flatten()].tolist()\n",
    "\n",
    "\n",
    "all_01 = maf_filter(genotypes, len(genotypes.columns) - 1, 0.01)\n",
    "all_05 = maf_filter(genotypes, len(genotypes.columns) - 1, 0.05)\n",
    "male_01 = maf_filter(genotypes[males], len(males) - 1, 0.01)\n",
    "male_05 = maf_filter(genotypes[males], len(males) - 1, 0.05)\n",
    "female_01 = maf_filter(genotypes[females], len(females) - 1, 0.01)\n",
    "female_05 = maf_filter(genotypes[females], len(females) - 1, 0.05)\n",
    "\n",
    "\n",
    "# Dosage specific filtering\n",
    "enum = genotypes.round().melt('SNP')\n",
    "male_enum = genotypes[males].round().melt('SNP')\n",
    "female_enum = genotypes[females].round().melt('SNP')\n",
    "\n",
    "dosage = pd.crosstab(enum['SNP'], enum['value'])\n",
    "male_dosage = pd.crosstab(male_enum['SNP'], male_enum['value'])\n",
    "female_dosage = pd.crosstab(female_enum['SNP'], female_enum['value'])\n",
    "\n",
    "all_dosage_01 = dosage_filter(dosage, len(genotypes.columns) - 1, 0.01)\n",
    "all_dosage_05 = dosage_filter(dosage, len(genotypes.columns) - 1, 0.05)\n",
    "male_dosage_01 = dosage_filter(male_dosage, len(males) - 1, 0.01)\n",
    "male_dosage_05 = dosage_filter(male_dosage, len(males) - 1, 0.05)\n",
    "female_dosage_01 = dosage_filter(female_dosage, len(females) - 1, 0.01)\n",
    "female_dosage_05 = dosage_filter(female_dosage, len(females) - 1, 0.05)\n",
    "\n",
    "# Print a nice table\n",
    "result = pd.DataFrame(\n",
    "    { \n",
    "        'group': ['all', 'males', 'females','all', 'males', 'females'],\n",
    "        'MAF' : [0.01,0.01,0.01,0.05,0.05,0.05],\n",
    "        'True MAF': [len(all_01), len(male_01), len(female_01),len(all_05),len(male_05),len(female_05)],\n",
    "        'dosage': [len(all_dosage_01), len(male_dosage_01), len(female_dosage_01),len(all_dosage_05),len(male_dosage_05),len(female_dosage_05)]\n",
    "    }\n",
    ")\n",
    "result"
   ]
  },
  {
   "cell_type": "markdown",
   "id": "committed-adrian",
   "metadata": {},
   "source": [
    "## Fine mapping mQTLs with CAVIAR"
   ]
  }
 ],
 "metadata": {
  "kernelspec": {
   "display_name": "Python [conda env:big_data]",
   "language": "python",
   "name": "conda-env-big_data-py"
  },
  "language_info": {
   "codemirror_mode": {
    "name": "ipython",
    "version": 3
   },
   "file_extension": ".py",
   "mimetype": "text/x-python",
   "name": "python",
   "nbconvert_exporter": "python",
   "pygments_lexer": "ipython3",
   "version": "3.8.8"
  },
  "toc-autonumbering": false,
  "toc-showcode": false,
  "toc-showmarkdowntxt": false,
  "toc-showtags": false
 },
 "nbformat": 4,
 "nbformat_minor": 5
}
