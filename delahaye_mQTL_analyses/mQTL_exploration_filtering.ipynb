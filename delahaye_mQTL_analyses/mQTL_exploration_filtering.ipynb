{
 "cells": [
  {
   "cell_type": "markdown",
   "id": "trying-conference",
   "metadata": {},
   "source": [
    "# Exploring Delahaye mQTLs: Replication and Cleaning\n",
    "Three major steps:\n",
    "1. Load in data and assess replication between Placental Regulation (Delahaye) dataset, RICHS, and Placental data from the Robinson Lab\n",
    "1. Assess effect of genotype dosage on number of significant mQTLs, repeating for sex-stratified dosage filters\n",
    "1. Assess effect sizes of sex-specific hits in terms of differences in allelic fold-change (aFC)\n",
    "1. Assess hits that stand-up to \"fine mapping\"\n"
   ]
  },
  {
   "cell_type": "code",
   "execution_count": 2,
   "id": "blessed-recording",
   "metadata": {},
   "outputs": [],
   "source": [
    "import pandas as pd\n",
    "import time\n",
    "import sys\n",
    "%load_ext rpy2.ipython"
   ]
  },
  {
   "cell_type": "markdown",
   "id": "rolled-processor",
   "metadata": {},
   "source": [
    "### Loading in marginal data \n",
    "This is slightly faster in python, I have saved large datasets as a parquet file, which can be read using `pandas` and `pyarrow` in python, and the `arrow` library in R."
   ]
  },
  {
   "cell_type": "code",
   "execution_count": null,
   "id": "limiting-linux",
   "metadata": {},
   "outputs": [],
   "source": [
    "t = time.time()\n",
    "delahaye = pd.read_parquet(\"../../delahaye_QC/matrix_eqtl_data/cis_mQTL_9_methy_PC_all.parquet\")\n",
    "print(time.time() - t)"
   ]
  },
  {
   "cell_type": "markdown",
   "id": "generic-secondary",
   "metadata": {},
   "source": [
    "Just checking that enrichment is what I would expect for cis-mQTL analysis (mostly uniform other than many hits due to enrichment of signal in *cis*)."
   ]
  },
  {
   "cell_type": "code",
   "execution_count": 4,
   "id": "passive-price",
   "metadata": {},
   "outputs": [
    {
     "name": "stderr",
     "output_type": "stream",
     "text": [
      "Matplotlib created a temporary config/cache directory at /tmp/pbs.2114370.pbsha.ib.sockeye/matplotlib-ngq1197w because the default path (/home/jovyan/.cache/matplotlib) is not a writable directory; it is highly recommended to set the MPLCONFIGDIR environment variable to a writable directory, in particular to speed up the import of Matplotlib and to better support multiprocessing.\n"
     ]
    },
    {
     "data": {
      "text/plain": [
       "<matplotlib.lines.Line2D at 0x2aab604e03a0>"
      ]
     },
     "execution_count": 4,
     "metadata": {},
     "output_type": "execute_result"
    },
    {
     "data": {
      "image/png": "[encoded data removed]",
      "text/plain": [
       "<Figure size 432x288 with 1 Axes>"
      ]
     },
     "metadata": {
      "needs_background": "light"
     },
     "output_type": "display_data"
    }
   ],
   "source": [
    "bins = 100\n",
    "plt = delahaye[['p-value']].plot(kind='hist', bins=bins)\n",
    "plt.axhline(y=len(delahaye) / 100.0, linestyle='--', color='black')"
   ]
  },
  {
   "cell_type": "markdown",
   "id": "unable-fifth",
   "metadata": {},
   "source": [
    "Loading in remaining data:"
   ]
  },
  {
   "cell_type": "code",
   "execution_count": 6,
   "id": "hollow-setup",
   "metadata": {},
   "outputs": [],
   "source": [
    "richs = pd.read_parquet(\"../../RICHS_QC/matrix_eqtl_data/cis_mQTL_9_methy_PC_all.parquet\")\n",
    "robinson = pd.read_parquet(\"../../robinson_results/cis_impute_mQTL_results_6_methy_PC.parquet\")"
   ]
  },
  {
   "cell_type": "markdown",
   "id": "facial-priest",
   "metadata": {},
   "source": [
    "### Replication of marginal signals"
   ]
  },
  {
   "cell_type": "code",
   "execution_count": null,
   "id": "biblical-solid",
   "metadata": {},
   "outputs": [],
   "source": [
    "def run_replication(df1,df2):\n",
    "    return df2.merge(df1[df1['FDR'] < 0.05], on=['SNP','gene'])\n",
    "\n",
    "delahaye_richs = run_replication(delahaye, richs)\n",
    "richs_delahaye = run_replication(richs, delahaye)\n",
    "delahaye_robinson = run_replication(delahaye, robinson)\n",
    "robinson_delahaye = run_replication(robinson,delahaye)"
   ]
  },
  {
   "cell_type": "code",
   "execution_count": null,
   "id": "excellent-prompt",
   "metadata": {},
   "outputs": [],
   "source": [
    "%R library(qvalue); print(1 - pi0est(delahaye_richs$`p-value`))\n",
    "%R library(qvalue); print(1 - pi0est(richs_delahaye$`p-value`))\n",
    "%R library(qvalue); print(1 - pi0est(delahaye_robinson$`p-value`))\n",
    "%R library(qvalue); print(1 - pi0est(robinson_delahaye$`p-value`))"
   ]
  },
  {
   "cell_type": "markdown",
   "id": "amateur-butter",
   "metadata": {},
   "source": [
    "## Loading in sex-specific signals"
   ]
  },
  {
   "cell_type": "code",
   "execution_count": null,
   "id": "strange-ottawa",
   "metadata": {},
   "outputs": [],
   "source": [
    "delahaye_sex = pd.read_parquet(\"../../delahaye_QC/matrix_eqtl_data/cis_mQTL_9_methy_PC_all_sex_interaction.parquet\")\n",
    "richs_sex = pd.read_csv(\"../../RICHS_QC/matrix_eqtl_data/cis_mQTL_9_methy_PC_all_sex_interaction.txt\", sep=\"\\s+\")\n",
    "robinson_sex = pd.read_csv(\"../../robinson_results/cis_int_sex_all_chr_impute_mQTL_results_6_methy_PC.txt\", sep=\"\\s+\")\n",
    "richs_sex.to_parquet(\"../../RICHS_QC/matrix_eqtl_data/cis_mQTL_9_methy_PC_all_sex_interaction.parquet\")\n",
    "robinson_sex.to_parquet(\"../../robinson_results/cis_int_sex_impute_mQTL_results_6_methy_PC.parquet\")"
   ]
  },
  {
   "cell_type": "markdown",
   "id": "potential-connecticut",
   "metadata": {},
   "source": [
    "The number of overlapping signals is fairly small"
   ]
  }
 ],
 "metadata": {
  "kernelspec": {
   "display_name": "Python [conda env:big_data]",
   "language": "python",
   "name": "conda-env-big_data-py"
  },
  "language_info": {
   "codemirror_mode": {
    "name": "ipython",
    "version": 3
   },
   "file_extension": ".py",
   "mimetype": "text/x-python",
   "name": "python",
   "nbconvert_exporter": "python",
   "pygments_lexer": "ipython3",
   "version": "3.8.8"
  }
 },
 "nbformat": 4,
 "nbformat_minor": 5
}
