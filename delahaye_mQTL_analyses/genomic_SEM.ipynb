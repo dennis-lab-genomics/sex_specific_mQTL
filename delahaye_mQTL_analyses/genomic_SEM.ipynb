{
 "cells": [
  {
   "cell_type": "markdown",
   "id": "stylish-attention",
   "metadata": {},
   "source": [
    "# GenomicSEM for combining GWAS Summary stats\n",
    "Steps:\n",
    "1. Munge summary statistics (if necessary from LDSC formatted data)\n",
    "1. Compute covariance between traits using multivariate LDSC functionality from GenomicSEM \n",
    "1. Exploratory factor analysis to learn \"appropriate\" number of factors to explain all neuropsychiatric trait GWAS\n",
    "1. Confirmatory factor analysis using GenomicSEM\n",
    "1. Common factor GWAS with learned hierarchical model"
   ]
  },
  {
   "cell_type": "code",
   "execution_count": 1,
   "id": "jewish-scheme",
   "metadata": {
    "collapsed": true,
    "jupyter": {
     "outputs_hidden": true
    },
    "tags": []
   },
   "outputs": [
    {
     "name": "stderr",
     "output_type": "stream",
     "text": [
      "── \u001b[1mAttaching packages\u001b[22m ─────────────────────────────────────── tidyverse 1.3.0 ──\n",
      "\n",
      "\u001b[32m✔\u001b[39m \u001b[34mggplot2\u001b[39m 3.3.3     \u001b[32m✔\u001b[39m \u001b[34mpurrr  \u001b[39m 0.3.4\n",
      "\u001b[32m✔\u001b[39m \u001b[34mtibble \u001b[39m 3.1.0     \u001b[32m✔\u001b[39m \u001b[34mdplyr  \u001b[39m 1.0.5\n",
      "\u001b[32m✔\u001b[39m \u001b[34mtidyr  \u001b[39m 1.1.3     \u001b[32m✔\u001b[39m \u001b[34mstringr\u001b[39m 1.4.0\n",
      "\u001b[32m✔\u001b[39m \u001b[34mreadr  \u001b[39m 1.4.0     \u001b[32m✔\u001b[39m \u001b[34mforcats\u001b[39m 0.5.1\n",
      "\n",
      "── \u001b[1mConflicts\u001b[22m ────────────────────────────────────────── tidyverse_conflicts() ──\n",
      "\u001b[31m✖\u001b[39m \u001b[34mdplyr\u001b[39m::\u001b[32mbetween()\u001b[39m   masks \u001b[34mdata.table\u001b[39m::between()\n",
      "\u001b[31m✖\u001b[39m \u001b[34mdplyr\u001b[39m::\u001b[32mfilter()\u001b[39m    masks \u001b[34mstats\u001b[39m::filter()\n",
      "\u001b[31m✖\u001b[39m \u001b[34mdplyr\u001b[39m::\u001b[32mfirst()\u001b[39m     masks \u001b[34mdata.table\u001b[39m::first()\n",
      "\u001b[31m✖\u001b[39m \u001b[34mdplyr\u001b[39m::\u001b[32mlag()\u001b[39m       masks \u001b[34mstats\u001b[39m::lag()\n",
      "\u001b[31m✖\u001b[39m \u001b[34mdplyr\u001b[39m::\u001b[32mlast()\u001b[39m      masks \u001b[34mdata.table\u001b[39m::last()\n",
      "\u001b[31m✖\u001b[39m \u001b[34mpurrr\u001b[39m::\u001b[32mtranspose()\u001b[39m masks \u001b[34mdata.table\u001b[39m::transpose()\n",
      "\n",
      "Warning message:\n",
      "“replacing previous import ‘gdata::nobs’ by ‘lavaan::nobs’ when loading ‘GenomicSEM’”\n",
      "Warning message:\n",
      "“replacing previous import ‘gdata::last’ by ‘data.table::last’ when loading ‘GenomicSEM’”\n",
      "Warning message:\n",
      "“replacing previous import ‘gdata::first’ by ‘data.table::first’ when loading ‘GenomicSEM’”\n",
      "Warning message:\n",
      "“replacing previous import ‘gdata::env’ by ‘R.utils::env’ when loading ‘GenomicSEM’”\n",
      "Warning message:\n",
      "“replacing previous import ‘gdata::resample’ by ‘R.utils::resample’ when loading ‘GenomicSEM’”\n",
      "Warning message:\n",
      "“replacing previous import ‘data.table::last’ by ‘dplyr::last’ when loading ‘GenomicSEM’”\n",
      "Warning message:\n",
      "“replacing previous import ‘plyr::summarize’ by ‘dplyr::summarize’ when loading ‘GenomicSEM’”\n",
      "Warning message:\n",
      "“replacing previous import ‘plyr::mutate’ by ‘dplyr::mutate’ when loading ‘GenomicSEM’”\n",
      "Warning message:\n",
      "“replacing previous import ‘plyr::id’ by ‘dplyr::id’ when loading ‘GenomicSEM’”\n",
      "Warning message:\n",
      "“replacing previous import ‘plyr::arrange’ by ‘dplyr::arrange’ when loading ‘GenomicSEM’”\n",
      "Warning message:\n",
      "“replacing previous import ‘plyr::summarise’ by ‘dplyr::summarise’ when loading ‘GenomicSEM’”\n",
      "Warning message:\n",
      "“replacing previous import ‘data.table::first’ by ‘dplyr::first’ when loading ‘GenomicSEM’”\n",
      "Warning message:\n",
      "“replacing previous import ‘plyr::rename’ by ‘dplyr::rename’ when loading ‘GenomicSEM’”\n",
      "Warning message:\n",
      "“replacing previous import ‘plyr::desc’ by ‘dplyr::desc’ when loading ‘GenomicSEM’”\n",
      "Warning message:\n",
      "“replacing previous import ‘plyr::count’ by ‘dplyr::count’ when loading ‘GenomicSEM’”\n",
      "Warning message:\n",
      "“replacing previous import ‘gdata::combine’ by ‘dplyr::combine’ when loading ‘GenomicSEM’”\n",
      "Warning message:\n",
      "“replacing previous import ‘data.table::between’ by ‘dplyr::between’ when loading ‘GenomicSEM’”\n",
      "Warning message:\n",
      "“replacing previous import ‘plyr::failwith’ by ‘dplyr::failwith’ when loading ‘GenomicSEM’”\n",
      "Warning message:\n",
      "“replacing previous import ‘Rcpp::prompt’ by ‘utils::prompt’ when loading ‘GenomicSEM’”\n",
      "Warning message:\n",
      "“replacing previous import ‘Rcpp::.DollarNames’ by ‘utils::.DollarNames’ when loading ‘GenomicSEM’”\n",
      "Warning message:\n",
      "“replacing previous import ‘Matrix::tail’ by ‘utils::tail’ when loading ‘GenomicSEM’”\n",
      "Warning message:\n",
      "“replacing previous import ‘gdata::object.size’ by ‘utils::object.size’ when loading ‘GenomicSEM’”\n",
      "Warning message:\n",
      "“replacing previous import ‘R.utils::timestamp’ by ‘utils::timestamp’ when loading ‘GenomicSEM’”\n",
      "Warning message:\n",
      "“replacing previous import ‘Matrix::head’ by ‘utils::head’ when loading ‘GenomicSEM’”\n"
     ]
    }
   ],
   "source": [
    "library(data.table)\n",
    "library(tidyverse)\n",
    "library(GenomicSEM)"
   ]
  },
  {
   "cell_type": "markdown",
   "id": "canadian-audit",
   "metadata": {},
   "source": [
    "## Compute covariances using multivariate LDSC\n",
    "Combined vs sex-biased."
   ]
  },
  {
   "cell_type": "code",
   "execution_count": 23,
   "id": "palestinian-peeing",
   "metadata": {},
   "outputs": [
    {
     "data": {
      "text/html": [
       "'\"/scratch/st-dennisjk-1/wcasazza/tmp_GWAS/pgc_formatted_sumstats/adhd_jul2017.sumstats.gz\",\"/scratch/st-dennisjk-1/wcasazza/tmp_GWAS/pgc_formatted_sumstats/anxiety.meta.full.cc.tbl.sumstats.gz\",\"/scratch/st-dennisjk-1/wcasazza/tmp_GWAS/pgc_formatted_sumstats/AUDIT_UKB_2018_AJP.txt.sumstats.gz\",\"/scratch/st-dennisjk-1/wcasazza/tmp_GWAS/pgc_formatted_sumstats/Cannabis_ICC_23andmetop_UKB_het.txt.sumstats.gz\",\"/scratch/st-dennisjk-1/wcasazza/tmp_GWAS/pgc_formatted_sumstats/iPSYCH-PGC_ASD_Nov2017.sumstats.gz\",\"/scratch/st-dennisjk-1/wcasazza/tmp_GWAS/pgc_formatted_sumstats/ocd_aug2017.sumstats.gz\",\"/scratch/st-dennisjk-1/wcasazza/tmp_GWAS/pgc_formatted_sumstats/pgc_alcdep.trans_fe_unrel_geno.aug2018_release.txt.sumstats.gz\",\"/scratch/st-dennisjk-1/wcasazza/tmp_GWAS/pgc_formatted_sumstats/pgc_bip_2018.sumstats.gz\",\"/scratch/st-dennisjk-1/wcasazza/tmp_GWAS/pgc_formatted_sumstats/PGC_UKB_depression_genome-wide.txt.sumstats.gz\",\"/scratch/st-dennisjk-1/wcasazza/tmp_GWAS/pgc_formatted_sumstats/PGC3_SCZ_wave3_public.v2.tsv.sumstats.gz\",\"/scratch/st-dennisjk-1/wcasazza/tmp_GWAS/pgc_formatted_sumstats/tag.cpd.tbl.sumstats.gz\",\"/scratch/st-dennisjk-1/wcasazza/tmp_GWAS/pgc_formatted_sumstats/TS_Oct2018.sumstats.gz\"'"
      ],
      "text/latex": [
       "'\"/scratch/st-dennisjk-1/wcasazza/tmp\\_GWAS/pgc\\_formatted\\_sumstats/adhd\\_jul2017.sumstats.gz\",\"/scratch/st-dennisjk-1/wcasazza/tmp\\_GWAS/pgc\\_formatted\\_sumstats/anxiety.meta.full.cc.tbl.sumstats.gz\",\"/scratch/st-dennisjk-1/wcasazza/tmp\\_GWAS/pgc\\_formatted\\_sumstats/AUDIT\\_UKB\\_2018\\_AJP.txt.sumstats.gz\",\"/scratch/st-dennisjk-1/wcasazza/tmp\\_GWAS/pgc\\_formatted\\_sumstats/Cannabis\\_ICC\\_23andmetop\\_UKB\\_het.txt.sumstats.gz\",\"/scratch/st-dennisjk-1/wcasazza/tmp\\_GWAS/pgc\\_formatted\\_sumstats/iPSYCH-PGC\\_ASD\\_Nov2017.sumstats.gz\",\"/scratch/st-dennisjk-1/wcasazza/tmp\\_GWAS/pgc\\_formatted\\_sumstats/ocd\\_aug2017.sumstats.gz\",\"/scratch/st-dennisjk-1/wcasazza/tmp\\_GWAS/pgc\\_formatted\\_sumstats/pgc\\_alcdep.trans\\_fe\\_unrel\\_geno.aug2018\\_release.txt.sumstats.gz\",\"/scratch/st-dennisjk-1/wcasazza/tmp\\_GWAS/pgc\\_formatted\\_sumstats/pgc\\_bip\\_2018.sumstats.gz\",\"/scratch/st-dennisjk-1/wcasazza/tmp\\_GWAS/pgc\\_formatted\\_sumstats/PGC\\_UKB\\_depression\\_genome-wide.txt.sumstats.gz\",\"/scratch/st-dennisjk-1/wcasazza/tmp\\_GWAS/pgc\\_formatted\\_sumstats/PGC3\\_SCZ\\_wave3\\_public.v2.tsv.sumstats.gz\",\"/scratch/st-dennisjk-1/wcasazza/tmp\\_GWAS/pgc\\_formatted\\_sumstats/tag.cpd.tbl.sumstats.gz\",\"/scratch/st-dennisjk-1/wcasazza/tmp\\_GWAS/pgc\\_formatted\\_sumstats/TS\\_Oct2018.sumstats.gz\"'"
      ],
      "text/markdown": [
       "'\"/scratch/st-dennisjk-1/wcasazza/tmp_GWAS/pgc_formatted_sumstats/adhd_jul2017.sumstats.gz\",\"/scratch/st-dennisjk-1/wcasazza/tmp_GWAS/pgc_formatted_sumstats/anxiety.meta.full.cc.tbl.sumstats.gz\",\"/scratch/st-dennisjk-1/wcasazza/tmp_GWAS/pgc_formatted_sumstats/AUDIT_UKB_2018_AJP.txt.sumstats.gz\",\"/scratch/st-dennisjk-1/wcasazza/tmp_GWAS/pgc_formatted_sumstats/Cannabis_ICC_23andmetop_UKB_het.txt.sumstats.gz\",\"/scratch/st-dennisjk-1/wcasazza/tmp_GWAS/pgc_formatted_sumstats/iPSYCH-PGC_ASD_Nov2017.sumstats.gz\",\"/scratch/st-dennisjk-1/wcasazza/tmp_GWAS/pgc_formatted_sumstats/ocd_aug2017.sumstats.gz\",\"/scratch/st-dennisjk-1/wcasazza/tmp_GWAS/pgc_formatted_sumstats/pgc_alcdep.trans_fe_unrel_geno.aug2018_release.txt.sumstats.gz\",\"/scratch/st-dennisjk-1/wcasazza/tmp_GWAS/pgc_formatted_sumstats/pgc_bip_2018.sumstats.gz\",\"/scratch/st-dennisjk-1/wcasazza/tmp_GWAS/pgc_formatted_sumstats/PGC_UKB_depression_genome-wide.txt.sumstats.gz\",\"/scratch/st-dennisjk-1/wcasazza/tmp_GWAS/pgc_formatted_sumstats/PGC3_SCZ_wave3_public.v2.tsv.sumstats.gz\",\"/scratch/st-dennisjk-1/wcasazza/tmp_GWAS/pgc_formatted_sumstats/tag.cpd.tbl.sumstats.gz\",\"/scratch/st-dennisjk-1/wcasazza/tmp_GWAS/pgc_formatted_sumstats/TS_Oct2018.sumstats.gz\"'"
      ],
      "text/plain": [
       "[1] \"\\\"/scratch/st-dennisjk-1/wcasazza/tmp_GWAS/pgc_formatted_sumstats/adhd_jul2017.sumstats.gz\\\",\\\"/scratch/st-dennisjk-1/wcasazza/tmp_GWAS/pgc_formatted_sumstats/anxiety.meta.full.cc.tbl.sumstats.gz\\\",\\\"/scratch/st-dennisjk-1/wcasazza/tmp_GWAS/pgc_formatted_sumstats/AUDIT_UKB_2018_AJP.txt.sumstats.gz\\\",\\\"/scratch/st-dennisjk-1/wcasazza/tmp_GWAS/pgc_formatted_sumstats/Cannabis_ICC_23andmetop_UKB_het.txt.sumstats.gz\\\",\\\"/scratch/st-dennisjk-1/wcasazza/tmp_GWAS/pgc_formatted_sumstats/iPSYCH-PGC_ASD_Nov2017.sumstats.gz\\\",\\\"/scratch/st-dennisjk-1/wcasazza/tmp_GWAS/pgc_formatted_sumstats/ocd_aug2017.sumstats.gz\\\",\\\"/scratch/st-dennisjk-1/wcasazza/tmp_GWAS/pgc_formatted_sumstats/pgc_alcdep.trans_fe_unrel_geno.aug2018_release.txt.sumstats.gz\\\",\\\"/scratch/st-dennisjk-1/wcasazza/tmp_GWAS/pgc_formatted_sumstats/pgc_bip_2018.sumstats.gz\\\",\\\"/scratch/st-dennisjk-1/wcasazza/tmp_GWAS/pgc_formatted_sumstats/PGC_UKB_depression_genome-wide.txt.sumstats.gz\\\",\\\"/scratch/st-dennisjk-1/wcasazza/tmp_GWAS/pgc_formatted_sumstats/PGC3_SCZ_wave3_public.v2.tsv.sumstats.gz\\\",\\\"/scratch/st-dennisjk-1/wcasazza/tmp_GWAS/pgc_formatted_sumstats/tag.cpd.tbl.sumstats.gz\\\",\\\"/scratch/st-dennisjk-1/wcasazza/tmp_GWAS/pgc_formatted_sumstats/TS_Oct2018.sumstats.gz\\\"\""
      ]
     },
     "metadata": {},
     "output_type": "display_data"
    }
   ],
   "source": [
    "traits <- c(\"/scratch/st-dennisjk-1/wcasazza/tmp_GWAS/pgc_formatted_sumstats/adhd_jul2017.sumstats.gz\",\n",
    "            \"/scratch/st-dennisjk-1/wcasazza/tmp_GWAS/pgc_formatted_sumstats/anxiety.meta.full.cc.tbl.sumstats.gz\",\n",
    "            \"/scratch/st-dennisjk-1/wcasazza/tmp_GWAS/pgc_formatted_sumstats/AUDIT_UKB_2018_AJP.txt.sumstats.gz\",\n",
    "            \"/scratch/st-dennisjk-1/wcasazza/tmp_GWAS/pgc_formatted_sumstats/Cannabis_ICC_23andmetop_UKB_het.txt.sumstats.gz\",\n",
    "            \"/scratch/st-dennisjk-1/wcasazza/tmp_GWAS/pgc_formatted_sumstats/iPSYCH-PGC_ASD_Nov2017.sumstats.gz\",\n",
    "            \"/scratch/st-dennisjk-1/wcasazza/tmp_GWAS/pgc_formatted_sumstats/ocd_aug2017.sumstats.gz\",\n",
    "            \"/scratch/st-dennisjk-1/wcasazza/tmp_GWAS/pgc_formatted_sumstats/pgc_alcdep.trans_fe_unrel_geno.aug2018_release.txt.sumstats.gz\",\n",
    "            \"/scratch/st-dennisjk-1/wcasazza/tmp_GWAS/pgc_formatted_sumstats/pgc_bip_2018.sumstats.gz\",\n",
    "            \"/scratch/st-dennisjk-1/wcasazza/tmp_GWAS/pgc_formatted_sumstats/PGC_UKB_depression_genome-wide.txt.sumstats.gz\",\n",
    "            \"/scratch/st-dennisjk-1/wcasazza/tmp_GWAS/pgc_formatted_sumstats/PGC3_SCZ_wave3_public.v2.tsv.sumstats.gz\",\n",
    "            \"/scratch/st-dennisjk-1/wcasazza/tmp_GWAS/pgc_formatted_sumstats/tag.cpd.tbl.sumstats.gz\",\n",
    "            \"/scratch/st-dennisjk-1/wcasazza/tmp_GWAS/pgc_formatted_sumstats/TS_Oct2018.sumstats.gz\")\n",
    "#dir(\"/scratch/st-dennisjk-1/wcasazza/tmp_GWAS/pgc_formatted_sumstats\",pattern = \"(ASD_Nov|depression|tag|adhd_jul|AUDIT|bip|SCZ|TS|ocd|anxiety.meta.full.cc|Cannabis_ICC|pgc_alcdep.trans).*.gz\",full.names = TRUE)# filter these\n",
    "# paste0('\"',traits,'\"', collapse=\",\")\n",
    "sample_prev <- c(0.36, 0.33, #Sample prevalence\n",
    "# population_prev <- #Population prevalence\n",
    "# ld <- #non-partitioned ldscores dir\n",
    "# wld <- #unweighted ld scores dir, in tutorial is the same as above\n",
    "trait_names <- c(\"ADHD\", \"ANX\", \"AUDIT\",\"CUD\",\"ASD\",\"OCD\",\"ALC\",\"BIP\",\"MDD\",\"SCZ\",\"TAG_CPD\",\"TS\")"
   ]
  }
 ],
 "metadata": {
  "kernelspec": {
   "display_name": "R [conda env:misc_bio]",
   "language": "R",
   "name": "conda-env-misc_bio-r"
  },
  "language_info": {
   "codemirror_mode": "r",
   "file_extension": ".r",
   "mimetype": "text/x-r-source",
   "name": "R",
   "pygments_lexer": "r",
   "version": "4.0.3"
  },
  "widgets": {
   "application/vnd.jupyter.widget-state+json": {
    "state": {},
    "version_major": 2,
    "version_minor": 0
   }
  }
 },
 "nbformat": 4,
 "nbformat_minor": 5
}
