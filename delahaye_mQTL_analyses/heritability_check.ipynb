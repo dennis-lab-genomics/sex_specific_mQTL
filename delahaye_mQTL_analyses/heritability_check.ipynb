{
 "cells": [
  {
   "cell_type": "markdown",
   "id": "dc57b7d7-1036-440c-abb5-7796c068616c",
   "metadata": {
    "tags": []
   },
   "source": [
    "# Checking heritability computed on DNAm"
   ]
  },
  {
   "cell_type": "code",
   "execution_count": 23,
   "id": "d9d73956-6e51-40b8-aba2-89c3ec4c3e29",
   "metadata": {},
   "outputs": [],
   "source": [
    "library(here)\n",
    "library(data.table)\n",
    "library(parallel)"
   ]
  },
  {
   "cell_type": "code",
   "execution_count": 2,
   "id": "64b2daf5-fde1-4caa-8d64-6f09076135fa",
   "metadata": {},
   "outputs": [],
   "source": [
    "h_files < -dir(here(\"data\", \"gcta_analysis\", \"delahaye_output\"))\n",
    "cpgs < -gsub(\".hsq\", \"\", h_files)"
   ]
  },
  {
   "cell_type": "code",
   "execution_count": 25,
   "id": "ff2f60ce-48b4-4454-a1d4-95a18747d29e",
   "metadata": {},
   "outputs": [],
   "source": [
    "read_heritability <- function(fname){\n",
    "    dt <- fread(fname,fill=TRUE)\n",
    "    main_cols <- transpose(dt[1:8,c(2)])\n",
    "    colnames(main_cols) <- dt$Source[1:8]\n",
    "    se_cols <- transpose(dt[1:4,c(3)])\n",
    "    colnames(se_cols) <- paste0(dt$Source[1:4],\"_SE\")\n",
    "    return(cbind(data.table(probe=gsub(\".*/(.*).hsq\",\"\\\\1\",fname)),main_cols,se_cols))\n",
    "}\n",
    "current_heritability <- rbindlist(\n",
    "    mclapply(\n",
    "        here(\"data\",\"gcta_analysis\",\"delahaye_output\",h_files),\n",
    "        read_heritability,\n",
    "        mc.cores = 16\n",
    "    )\n",
    ")"
   ]
  },
  {
   "cell_type": "code",
   "execution_count": 26,
   "id": "7ef60276-5466-4abf-a64b-2f3112288590",
   "metadata": {},
   "outputs": [
    {
     "data": {
      "text/html": [
       "<table class=\"dataframe\">\n",
       "<caption>A data.table: 6 × 13</caption>\n",
       "<thead>\n",
       "\t<tr><th scope=col>probe</th><th scope=col>V(G)</th><th scope=col>V(e)</th><th scope=col>Vp</th><th scope=col>V(G)/Vp</th><th scope=col>logL</th><th scope=col>logL0</th><th scope=col>LRT</th><th scope=col>Pval</th><th scope=col>V(G)_SE</th><th scope=col>V(e)_SE</th><th scope=col>Vp_SE</th><th scope=col>V(G)/Vp_SE</th></tr>\n",
       "\t<tr><th scope=col>&lt;chr&gt;</th><th scope=col>&lt;dbl&gt;</th><th scope=col>&lt;dbl&gt;</th><th scope=col>&lt;dbl&gt;</th><th scope=col>&lt;dbl&gt;</th><th scope=col>&lt;dbl&gt;</th><th scope=col>&lt;dbl&gt;</th><th scope=col>&lt;dbl&gt;</th><th scope=col>&lt;dbl&gt;</th><th scope=col>&lt;dbl&gt;</th><th scope=col>&lt;dbl&gt;</th><th scope=col>&lt;dbl&gt;</th><th scope=col>&lt;dbl&gt;</th></tr>\n",
       "</thead>\n",
       "<tbody>\n",
       "\t<tr><td>cg00000029</td><td>0.014699</td><td>0.176618</td><td>0.191317</td><td>0.076832</td><td> 41.664</td><td> 37.479</td><td>  8.370</td><td>1.91e-03</td><td>0.010041</td><td>0.016250</td><td>0.017702</td><td>0.049899</td></tr>\n",
       "\t<tr><td>cg00000108</td><td>0.336076</td><td>0.072536</td><td>0.408613</td><td>0.822481</td><td> 90.523</td><td>-21.504</td><td>224.053</td><td>0.00e+00</td><td>0.069762</td><td>0.007647</td><td>0.069107</td><td>0.035863</td></tr>\n",
       "\t<tr><td>cg00000109</td><td>0.000000</td><td>0.080807</td><td>0.080807</td><td>0.000001</td><td>148.617</td><td>148.617</td><td>  0.000</td><td>5.00e-01</td><td>0.001653</td><td>0.007277</td><td>0.007129</td><td>0.020453</td></tr>\n",
       "\t<tr><td>cg00000165</td><td>0.001287</td><td>0.106842</td><td>0.108129</td><td>0.011907</td><td>111.422</td><td>111.331</td><td>  0.183</td><td>3.34e-01</td><td>0.003213</td><td>0.009780</td><td>0.009558</td><td>0.029633</td></tr>\n",
       "\t<tr><td>cg00000236</td><td>0.001661</td><td>0.059108</td><td>0.060769</td><td>0.027332</td><td>186.183</td><td>185.565</td><td>  1.236</td><td>1.33e-01</td><td>0.002108</td><td>0.005383</td><td>0.005415</td><td>0.034262</td></tr>\n",
       "\t<tr><td>cg00000289</td><td>0.050336</td><td>0.071638</td><td>0.121974</td><td>0.412679</td><td>129.968</td><td>105.339</td><td> 49.257</td><td>1.12e-12</td><td>0.015407</td><td>0.007401</td><td>0.015317</td><td>0.084071</td></tr>\n",
       "</tbody>\n",
       "</table>\n"
      ],
      "text/latex": [
       "A data.table: 6 × 13\n",
       "\\begin{tabular}{lllllllllllll}\n",
       " probe & V(G) & V(e) & Vp & V(G)/Vp & logL & logL0 & LRT & Pval & V(G)\\_SE & V(e)\\_SE & Vp\\_SE & V(G)/Vp\\_SE\\\\\n",
       " <chr> & <dbl> & <dbl> & <dbl> & <dbl> & <dbl> & <dbl> & <dbl> & <dbl> & <dbl> & <dbl> & <dbl> & <dbl>\\\\\n",
       "\\hline\n",
       "\t cg00000029 & 0.014699 & 0.176618 & 0.191317 & 0.076832 &  41.664 &  37.479 &   8.370 & 1.91e-03 & 0.010041 & 0.016250 & 0.017702 & 0.049899\\\\\n",
       "\t cg00000108 & 0.336076 & 0.072536 & 0.408613 & 0.822481 &  90.523 & -21.504 & 224.053 & 0.00e+00 & 0.069762 & 0.007647 & 0.069107 & 0.035863\\\\\n",
       "\t cg00000109 & 0.000000 & 0.080807 & 0.080807 & 0.000001 & 148.617 & 148.617 &   0.000 & 5.00e-01 & 0.001653 & 0.007277 & 0.007129 & 0.020453\\\\\n",
       "\t cg00000165 & 0.001287 & 0.106842 & 0.108129 & 0.011907 & 111.422 & 111.331 &   0.183 & 3.34e-01 & 0.003213 & 0.009780 & 0.009558 & 0.029633\\\\\n",
       "\t cg00000236 & 0.001661 & 0.059108 & 0.060769 & 0.027332 & 186.183 & 185.565 &   1.236 & 1.33e-01 & 0.002108 & 0.005383 & 0.005415 & 0.034262\\\\\n",
       "\t cg00000289 & 0.050336 & 0.071638 & 0.121974 & 0.412679 & 129.968 & 105.339 &  49.257 & 1.12e-12 & 0.015407 & 0.007401 & 0.015317 & 0.084071\\\\\n",
       "\\end{tabular}\n"
      ],
      "text/markdown": [
       "\n",
       "A data.table: 6 × 13\n",
       "\n",
       "| probe &lt;chr&gt; | V(G) &lt;dbl&gt; | V(e) &lt;dbl&gt; | Vp &lt;dbl&gt; | V(G)/Vp &lt;dbl&gt; | logL &lt;dbl&gt; | logL0 &lt;dbl&gt; | LRT &lt;dbl&gt; | Pval &lt;dbl&gt; | V(G)_SE &lt;dbl&gt; | V(e)_SE &lt;dbl&gt; | Vp_SE &lt;dbl&gt; | V(G)/Vp_SE &lt;dbl&gt; |\n",
       "|---|---|---|---|---|---|---|---|---|---|---|---|---|\n",
       "| cg00000029 | 0.014699 | 0.176618 | 0.191317 | 0.076832 |  41.664 |  37.479 |   8.370 | 1.91e-03 | 0.010041 | 0.016250 | 0.017702 | 0.049899 |\n",
       "| cg00000108 | 0.336076 | 0.072536 | 0.408613 | 0.822481 |  90.523 | -21.504 | 224.053 | 0.00e+00 | 0.069762 | 0.007647 | 0.069107 | 0.035863 |\n",
       "| cg00000109 | 0.000000 | 0.080807 | 0.080807 | 0.000001 | 148.617 | 148.617 |   0.000 | 5.00e-01 | 0.001653 | 0.007277 | 0.007129 | 0.020453 |\n",
       "| cg00000165 | 0.001287 | 0.106842 | 0.108129 | 0.011907 | 111.422 | 111.331 |   0.183 | 3.34e-01 | 0.003213 | 0.009780 | 0.009558 | 0.029633 |\n",
       "| cg00000236 | 0.001661 | 0.059108 | 0.060769 | 0.027332 | 186.183 | 185.565 |   1.236 | 1.33e-01 | 0.002108 | 0.005383 | 0.005415 | 0.034262 |\n",
       "| cg00000289 | 0.050336 | 0.071638 | 0.121974 | 0.412679 | 129.968 | 105.339 |  49.257 | 1.12e-12 | 0.015407 | 0.007401 | 0.015317 | 0.084071 |\n",
       "\n"
      ],
      "text/plain": [
       "  probe      V(G)     V(e)     Vp       V(G)/Vp  logL    logL0   LRT    \n",
       "1 cg00000029 0.014699 0.176618 0.191317 0.076832  41.664  37.479   8.370\n",
       "2 cg00000108 0.336076 0.072536 0.408613 0.822481  90.523 -21.504 224.053\n",
       "3 cg00000109 0.000000 0.080807 0.080807 0.000001 148.617 148.617   0.000\n",
       "4 cg00000165 0.001287 0.106842 0.108129 0.011907 111.422 111.331   0.183\n",
       "5 cg00000236 0.001661 0.059108 0.060769 0.027332 186.183 185.565   1.236\n",
       "6 cg00000289 0.050336 0.071638 0.121974 0.412679 129.968 105.339  49.257\n",
       "  Pval     V(G)_SE  V(e)_SE  Vp_SE    V(G)/Vp_SE\n",
       "1 1.91e-03 0.010041 0.016250 0.017702 0.049899  \n",
       "2 0.00e+00 0.069762 0.007647 0.069107 0.035863  \n",
       "3 5.00e-01 0.001653 0.007277 0.007129 0.020453  \n",
       "4 3.34e-01 0.003213 0.009780 0.009558 0.029633  \n",
       "5 1.33e-01 0.002108 0.005383 0.005415 0.034262  \n",
       "6 1.12e-12 0.015407 0.007401 0.015317 0.084071  "
      ]
     },
     "metadata": {},
     "output_type": "display_data"
    }
   ],
   "source": [
    "head(current_heritability)"
   ]
  },
  {
   "cell_type": "code",
   "execution_count": 28,
   "id": "4a466071-e40b-4879-bf1e-526264156add",
   "metadata": {},
   "outputs": [
    {
     "data": {
      "text/html": [
       "164143"
      ],
      "text/latex": [
       "164143"
      ],
      "text/markdown": [
       "164143"
      ],
      "text/plain": [
       "[1] 164143"
      ]
     },
     "metadata": {},
     "output_type": "display_data"
    },
    {
     "data": {
      "image/png": "[encoded data removed]",
      "text/plain": [
       "Plot with title “Histogram of current_heritability[Pval < 0.1]$`V(G)/Vp`”"
      ]
     },
     "metadata": {
      "image/png": {
       "height": 420,
       "width": 420
      }
     },
     "output_type": "display_data"
    }
   ],
   "source": [
    "nrow(current_heritability[Pval < 0.10])\n",
    "hist(current_heritability[Pval < 0.10]$`V(G)/Vp`,breaks=100)"
   ]
  },
  {
   "cell_type": "code",
   "execution_count": null,
   "id": "51554974-01a4-421e-8cbc-9399d2e61290",
   "metadata": {},
   "outputs": [],
   "source": []
  }
 ],
 "metadata": {
  "kernelspec": {
   "display_name": "R [conda env:misc_bio]",
   "language": "R",
   "name": "conda-env-misc_bio-r"
  },
  "language_info": {
   "codemirror_mode": "r",
   "file_extension": ".r",
   "mimetype": "text/x-r-source",
   "name": "R",
   "pygments_lexer": "r",
   "version": "4.1.0"
  },
  "widgets": {
   "application/vnd.jupyter.widget-state+json": {
    "state": {},
    "version_major": 2,
    "version_minor": 0
   }
  }
 },
 "nbformat": 4,
 "nbformat_minor": 5
}
