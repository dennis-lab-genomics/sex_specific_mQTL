{
 "cells": [
  {
   "cell_type": "markdown",
   "id": "aaefee8b-a24d-4c47-8832-aa497646ad4d",
   "metadata": {
    "tags": []
   },
   "source": [
    "# Colocalization between placental mQTL, psychiatric and developmental traits\n",
    "\n",
    "Idea: for all heritable CpGs, test for colocalization between traits and GWAS summary statistics for conditions where a significant proportion of heritability can be explained by placental mQTL.\n",
    "Traits to include:\n",
    "* Neuropsychiatric\n",
    "    1. OCD\n",
    "    1. TS\n",
    "    1. ADHD\n",
    "    1. ASD\n",
    "    1. MDD\n",
    "    1. BIP\n",
    "    1. AN\n",
    "    1. SCZ\n",
    "* Developmental: \n",
    "    1. Pubertal Growth Start\n",
    "    1. Asthma\n",
    "    1. Child BMI\n",
    "    1. Child Onset Asthma"
   ]
  },
  {
   "cell_type": "code",
   "execution_count": 1,
   "id": "91e6db99-806a-49f2-a72f-63d3b0b20b93",
   "metadata": {},
   "outputs": [
    {
     "name": "stderr",
     "output_type": "stream",
     "text": [
      "── \u001b[1mAttaching packages\u001b[22m ─────────────────────────────────────── tidyverse 1.3.0 ──\n",
      "\n",
      "\u001b[32m✔\u001b[39m \u001b[34mggplot2\u001b[39m 3.3.3     \u001b[32m✔\u001b[39m \u001b[34mpurrr  \u001b[39m 0.3.4\n",
      "\u001b[32m✔\u001b[39m \u001b[34mtibble \u001b[39m 3.1.0     \u001b[32m✔\u001b[39m \u001b[34mdplyr  \u001b[39m 1.0.4\n",
      "\u001b[32m✔\u001b[39m \u001b[34mtidyr  \u001b[39m 1.1.3     \u001b[32m✔\u001b[39m \u001b[34mstringr\u001b[39m 1.4.0\n",
      "\u001b[32m✔\u001b[39m \u001b[34mreadr  \u001b[39m 1.4.0     \u001b[32m✔\u001b[39m \u001b[34mforcats\u001b[39m 0.5.1\n",
      "\n",
      "── \u001b[1mConflicts\u001b[22m ────────────────────────────────────────── tidyverse_conflicts() ──\n",
      "\u001b[31m✖\u001b[39m \u001b[34mdplyr\u001b[39m::\u001b[32mfilter()\u001b[39m masks \u001b[34mstats\u001b[39m::filter()\n",
      "\u001b[31m✖\u001b[39m \u001b[34mdplyr\u001b[39m::\u001b[32mlag()\u001b[39m    masks \u001b[34mstats\u001b[39m::lag()\n",
      "\n",
      "\n",
      "Attaching package: ‘data.table’\n",
      "\n",
      "\n",
      "The following objects are masked from ‘package:dplyr’:\n",
      "\n",
      "    between, first, last\n",
      "\n",
      "\n",
      "The following object is masked from ‘package:purrr’:\n",
      "\n",
      "    transpose\n",
      "\n",
      "\n",
      "This is a new update to coloc.\n",
      "\n",
      "Loading required package: bigstatsr\n",
      "\n",
      "here() starts at /scratch/st-dennisjk-1/wcasazza/sex_specific_mQTL\n",
      "\n",
      "\n",
      "Attaching package: ‘glue’\n",
      "\n",
      "\n",
      "The following object is masked from ‘package:dplyr’:\n",
      "\n",
      "    collapse\n",
      "\n",
      "\n"
     ]
    }
   ],
   "source": [
    "library(tidyverse)\n",
    "library(data.table)\n",
    "library(coloc)\n",
    "library(bigsnpr)\n",
    "library(here)\n",
    "library(parallel)\n",
    "library(glue)"
   ]
  },
  {
   "cell_type": "code",
   "execution_count": 2,
   "id": "9a458f17-686e-4176-ad0f-70790f5cef81",
   "metadata": {},
   "outputs": [],
   "source": [
    "if (file.exists(here(\"data\",\"marginal_mcpg_bonf.txt.gz\"))){\n",
    "    marginal_bonf <- fread(here(\"data\",\"marginal_mcpg_bonf.txt.gz\"),key=\"SNP\")\n",
    "}else{\n",
    "    marginal <- fread(here(\"data\",\"delahaye_richs_marginal_mecs_maf01.txt.gz\"))\n",
    "    marginal_bonf <- fread(here(\"data\",\"delahaye_richs_marginal_bonf_maf05.txt.gz\"))[Chr != 23]\n",
    "    marginal_bonf <- marginal[Probe %in%marginal_bonf$Probe]\n",
    "    fwrite(marginal_bonf,here(\"data\",\"marginal_mcpg_bonf.txt.gz\"),row.names=F,quote=F,sep='\\t')\n",
    "}"
   ]
  },
  {
   "cell_type": "code",
   "execution_count": 3,
   "id": "5c2a046c-964e-4c67-b714-2ce1f6ee512b",
   "metadata": {},
   "outputs": [],
   "source": [
    "rds < -snp_readBed2(\n",
    "    \"/arc/project/st-dennisjk-1/shared/data/1000G_EUR_ldsc_data/1000G_EUR_Phase3_plink/1000G.EUR.QC.ALL.bed\",\n",
    "    backingfile=tempfile(),\n",
    ")"
   ]
  },
  {
   "cell_type": "code",
   "execution_count": null,
   "id": "6272cacd-9824-4a90-97d8-475dfc8e6865",
   "metadata": {},
   "outputs": [],
   "source": [
    "reference < -snp_attach(rds)"
   ]
  },
  {
   "cell_type": "code",
   "execution_count": 5,
   "id": "b95cfedd-0486-46ff-b962-966ec72c0cc6",
   "metadata": {},
   "outputs": [
    {
     "name": "stdout",
     "output_type": "stream",
     "text": [
      "List of 3\n",
      " $ genotypes:Reference class 'FBM.code256' [package \"bigstatsr\"] with 16 fields\n",
      "  ..$ extptr      :<externalptr> \n",
      "  ..$ extptr_rw   :<externalptr> \n",
      "  ..$ nrow        : int 489\n",
      "  ..$ ncol        : int 9997231\n",
      "  ..$ type        : Named int 1\n",
      "  .. ..- attr(*, \"names\")= chr \"unsigned char\"\n",
      "  ..$ backingfile : chr \"/tmp/pbs.3124043.pbsha.ib.sockeye/Rtmp2tC1yx/file11da523a0fad.bk\"\n",
      "  ..$ is_read_only: logi FALSE\n",
      "  ..$ address     :<externalptr> \n",
      "  ..$ address_rw  :<externalptr> \n",
      "  ..$ bk          : chr \"/tmp/pbs.3124043.pbsha.ib.sockeye/Rtmp2tC1yx/file11da523a0fad.bk\"\n",
      "  ..$ rds         : chr \"/tmp/pbs.3124043.pbsha.ib.sockeye/Rtmp2tC1yx/file11da523a0fad.rds\"\n",
      "  ..$ is_saved    : logi TRUE\n",
      "  ..$ type_chr    : chr \"unsigned char\"\n",
      "  ..$ type_size   : int 1\n",
      "  ..$ file_size   : num 4.89e+09\n",
      "  ..$ code256     : num [1:256] 0 1 2 NA NA NA NA NA NA NA ...\n",
      "  ..and 26 methods, of which 12 are  possibly relevant:\n",
      "  ..  add_columns, as.FBM, bm, bm.desc, check_dimensions,\n",
      "  ..  check_write_permissions, copy#envRefClass, initialize, initialize#FBM,\n",
      "  ..  save, show#envRefClass, show#FBM\n",
      " $ fam      :'data.frame':\t489 obs. of  6 variables:\n",
      "  ..$ family.ID  : chr [1:489] \"HG00096\" \"HG00097\" \"HG00099\" \"HG00101\" ...\n",
      "  ..$ sample.ID  : chr [1:489] \"HG00096\" \"HG00097\" \"HG00099\" \"HG00101\" ...\n",
      "  ..$ paternal.ID: int [1:489] 0 0 0 0 0 0 0 0 0 0 ...\n",
      "  ..$ maternal.ID: int [1:489] 0 0 0 0 0 0 0 0 0 0 ...\n",
      "  ..$ sex        : int [1:489] 0 0 0 0 0 0 0 0 0 0 ...\n",
      "  ..$ affection  : int [1:489] -9 -9 -9 -9 -9 -9 -9 -9 -9 -9 ...\n",
      " $ map      :'data.frame':\t9997231 obs. of  6 variables:\n",
      "  ..$ chromosome  : int [1:9997231] 1 1 1 1 1 1 1 1 1 1 ...\n",
      "  ..$ marker.ID   : chr [1:9997231] \"rs575272151\" \"rs544419019\" \"rs540538026\" \"rs62635286\" ...\n",
      "  ..$ genetic.dist: num [1:9997231] 0 0 0 0 0 0 0 0 0 0 ...\n",
      "  ..$ physical.pos: int [1:9997231] 11008 11012 13110 13116 13118 13273 13550 14464 14599 14604 ...\n",
      "  ..$ allele1     : chr [1:9997231] \"G\" \"G\" \"A\" \"G\" ...\n",
      "  ..$ allele2     : chr [1:9997231] \"C\" \"C\" \"G\" \"T\" ...\n",
      " - attr(*, \"class\")= chr \"bigSNP\"\n"
     ]
    }
   ],
   "source": [
    "str(reference)"
   ]
  },
  {
   "cell_type": "code",
   "execution_count": null,
   "id": "8c1a0c0a-ffc5-413d-81e5-9c6bcdd8e7d1",
   "metadata": {},
   "outputs": [],
   "source": [
    "compute_coloc <- function(SNP,mqtl,gwas,method=\"coloc\", type=\"quant\",s=NULL){# SNP must be in SNP column of mqtl and gwas\n",
    "    D1 <- list(\n",
    "            beta = mqtl$b,\n",
    "            varbeta = mqtl$SE^2,\n",
    "            snp = mqtl$SNP,\n",
    "            position = mqtl$BP,\n",
    "            N = 400,\n",
    "            MAF = mqtl$Freq,\n",
    "            type=\"quant\"\n",
    "        )\n",
    "    D2 <- list(\n",
    "            pvalues = pnorm(-abs(gwas$Z))*2,\n",
    "            z=gwas$Z,\n",
    "            snp = gwas$SNP,\n",
    "            MAF = snp_MAF(reference$genotypes,ind.col = match(gwas$SNP,reference$map$marker.ID)),\n",
    "            N = min(gwas$N),\n",
    "            type=type,\n",
    "            s = s\n",
    "        )\n",
    "    if(method == \"susie\"){\n",
    "        LD <- snp_cor(reference$genotypes,ind.col = match(SNP, reference$map$marker.ID))^2\n",
    "        LD <- as.matrix(LD)\n",
    "        colnames(LD) <- SNP\n",
    "        rownames(LD) <- SNP\n",
    "        D1$LD <- LD\n",
    "        D2$LD <- LD\n",
    "        S1 <- runsusie(D1)\n",
    "        S2 <- runsusie(D2)\n",
    "        return(coloc.susie(S1,S2))\n",
    "    }else if(method == \"coloc\"){\n",
    "        return(coloc.abf(D1,D2))\n",
    "    }else{\n",
    "        return(NULL)\n",
    "    }\n",
    "}"
   ]
  },
  {
   "cell_type": "code",
   "execution_count": 14,
   "id": "4cb399ba-acbe-4cee-9661-f73cfee7108e",
   "metadata": {},
   "outputs": [],
   "source": [
    "gwas <- fread(\"../../tmp_GWAS/pgc_formatted_sumstats/adhd_jul2017.sumstats.gz\",key=\"SNP\")\n",
    "\n",
    "tmp_marginal_bonf <- marginal_bonf[intersect(gwas$SNP,reference$map$marker.ID),on=\"SNP\",nomatch=0]\n",
    "\n",
    "eligible_cpg <- unlist(mclapply(\n",
    "    unique(tmp_marginal_bonf$Probe),\n",
    "    function(probe){\n",
    "        mqtl <- tmp_marginal_bonf[Probe == probe]\n",
    "        gwas_tmp <- gwas[mqtl$SNP,on=\"SNP\"]\n",
    "        return(min(mqtl$p) < 5e-8 & max(abs(gwas_tmp$Z)) > 5.45 )\n",
    "    },\n",
    "    mc.cores=16\n",
    "))\n",
    "test <- mclapply(\n",
    "    unique(marginal_bonf$Probe)[eligible_cpg],\n",
    "    function(probe){\n",
    "        mqtl <- tmp_marginal_bonf[Probe == probe]\n",
    "        gwas_tmp <- gwas[SNP %in% mqtl$SNP]\n",
    "        res <- suppressMessages(compute_coloc(mqtl$SNP,mqtl,gwas_tmp,method=\"coloc\",s=0.36,type=\"cc\")$summary)\n",
    "        return(res)\n",
    "    },\n",
    "    mc.cores=16\n",
    ")\n",
    "\n",
    "names(test) <- unique(marginal_bonf$Probe)[eligible_cpg]\n",
    "result_adhd <- rbindlist(lapply(test,function(x)data.table(t(x))))\n",
    "result_adhd"
   ]
  },
  {
   "cell_type": "markdown",
   "id": "6d28b2a3-a700-441c-a54f-d171ab39ab87",
   "metadata": {},
   "source": [
    "# Repeating above for all psychiatric GWAS"
   ]
  },
  {
   "cell_type": "code",
   "execution_count": 3,
   "id": "fb406121-708f-47e4-ba50-3bf09ee68d18",
   "metadata": {},
   "outputs": [
    {
     "ename": "ERROR",
     "evalue": "Error in eval(expr, envir, enclos): object 'sumstat_files' not found\n",
     "output_type": "error",
     "traceback": [
      "Error in eval(expr, envir, enclos): object 'sumstat_files' not found\nTraceback:\n"
     ]
    }
   ],
   "source": [
    "sumstat_files < -c(\n",
    "    \"/scratch/st-dennisjk-1/wcasazza/tmp_GWAS/pgc_formatted_sumstats/adhd_jul2017.sumstats.gz\",\n",
    "    \"/scratch/st-dennisjk-1/wcasazza/tmp_GWAS/pgc_formatted_sumstats/anxiety.meta.full.fs.tbl.sumstats.gz\",\n",
    "    \"/scratch/st-dennisjk-1/wcasazza/tmp_GWAS/pgc_formatted_sumstats/anxiety.meta.full.cc.tbl.sumstats.gz\",\n",
    "    \"/scratch/st-dennisjk-1/wcasazza/tmp_GWAS/pgc_formatted_sumstats/pgcAN2.2019-07_refmt.vcf.tsv.sumstats.gz\",\n",
    "    \"/scratch/st-dennisjk-1/wcasazza/tmp_GWAS/pgc_formatted_sumstats/AUDIT_UKB_2018_AJP_fixed.txt.sumstats.gz\",\n",
    "    \"/scratch/st-dennisjk-1/wcasazza/tmp_GWAS/pgc_formatted_sumstats/Cannabis_ICC_23andmetop_UKB_het_fixed.txt.sumstats.gz\",\n",
    "    \"/scratch/st-dennisjk-1/wcasazza/tmp_GWAS/pgc_formatted_sumstats/iPSYCH-PGC_ASD_Nov2017.sumstats.gz\",\n",
    "    \"/scratch/st-dennisjk-1/wcasazza/tmp_GWAS/pgc_formatted_sumstats/ocd_aug2017.sumstats.gz\",\n",
    "    \"/scratch/st-dennisjk-1/wcasazza/tmp_GWAS/pgc_formatted_sumstats/pgc_alcdep.eur_unrelated.aug2018_release_refmt.txt.sumstats.gz\",\n",
    "    \"/scratch/st-dennisjk-1/wcasazza/tmp_GWAS/pgc_formatted_sumstats/pgc_bip_2018.sumstats.gz\",\n",
    "    \"/scratch/st-dennisjk-1/wcasazza/tmp_GWAS/pgc_formatted_sumstats/PGC_UKB_depression_genome-wide_fixed.txt.sumstats.gz\",\n",
    "    \"/scratch/st-dennisjk-1/wcasazza/tmp_GWAS/pgc_formatted_sumstats/MDD2018_ex23andMe.sumstats.gz\",\n",
    "    \"/scratch/st-dennisjk-1/wcasazza/tmp_GWAS/pgc_formatted_sumstats/PGC3_SCZ_wave3_public.v2.tsv.sumstats.gz\",\n",
    "    \"/scratch/st-dennisjk-1/wcasazza/tmp_GWAS/pgc_formatted_sumstats/tag.cpd.tbl.sumstats.gz\",\n",
    "    \"/scratch/st-dennisjk-1/wcasazza/tmp_GWAS/pgc_formatted_sumstats/TS_Oct2018.sumstats.gz\",\n",
    "    \"/scratch/st-dennisjk-1/wcasazza/tmp_GWAS/pgc_formatted_sumstats/pts_all_freeze2_overall.results.sumstats.gz\",\n",
    ")\n",
    "trait_names < -c(\n",
    "    \"ADHD\",\n",
    "    \"ANXFS\",\n",
    "    \"ANX\",\n",
    "    \"AN\",\n",
    "    \"AUDIT\",\n",
    "    \"CUD\",\n",
    "    \"ASD\",\n",
    "    \"OCD\",\n",
    "    \"ALC\",\n",
    "    \"BIP\",\n",
    "    \"MDD\",\n",
    "    \"MDD2018\",\n",
    "    \"SCZ\",\n",
    "    \"TAG_CPD\",\n",
    "    \"TS\",\n",
    "    \"PTSD\",\n",
    ")\n",
    "sample_prev < -c(\n",
    "    0.36,\n",
    "    NULL,\n",
    "    0.33,\n",
    "    0.23,\n",
    "    NULL,\n",
    "    0.30,\n",
    "    0.40,\n",
    "    0.28,\n",
    "    0.26,\n",
    "    0.15,\n",
    "    0.34,\n",
    "    0.35,\n",
    "    0.42,\n",
    "    NULL,\n",
    "    0.34,\n",
    "    0.15,\n",
    ")"
   ]
  },
  {
   "cell_type": "code",
   "execution_count": null,
   "id": "4b24326c-d696-44c0-87b4-88a27ee5d54b",
   "metadata": {},
   "outputs": [],
   "source": [
    "result <- list()\n",
    "for( i in 1:length(sumstat_files)){\n",
    "    gwas <- fread(sumstat_files[i])\n",
    "    tmp_marginal_bonf <- marginal_bonf[intersect(gwas$SNP,reference$map$marker.ID),on=\"SNP\",nomatch=0]\n",
    "    eligible_cpg <- unlist(mclapply(\n",
    "        unique(tmp_marginal_bonf$Probe),\n",
    "        function(probe){\n",
    "            mqtl <- tmp_marginal_bonf[Probe == probe]\n",
    "            gwas_tmp <- gwas[mqtl$SNP,on=\"SNP\"]\n",
    "            return(min(mqtl$p) < 5e-8 & max(abs(gwas_tmp$Z)) > 5.45 )\n",
    "        },\n",
    "        mc.cores=16\n",
    "    ))\n",
    "    if(sum(eligible_cpg) ){\n",
    "        test <- mclapply(\n",
    "            unique(tmp_marginal_bonf$Probe)[eligible_cpg],\n",
    "            function(probe){\n",
    "                mqtl <- tmp_marginal_bonf[Probe == probe]\n",
    "                gwas_tmp <- gwas[SNP %in% mqtl$SNP]\n",
    "                res <- suppressMessages(\n",
    "                    compute_coloc(\n",
    "                        mqtl$SNP,\n",
    "                        mqtl,\n",
    "                        gwas_tmp,\n",
    "                        method=\"coloc\",\n",
    "                        s=sample_prev[i],\n",
    "                        type=ifelse(is.null(sample_prev[i]),\"quant\",\"cc\")\n",
    "                    )$summary\n",
    "                )\n",
    "                return(res)\n",
    "            },\n",
    "            mc.cores=16\n",
    "        )\n",
    "        names(test) <- unique(tmp_marginal_bonf$Probe)[eligible_cpg]\n",
    "        res <- rbindlist(lapply(test,function(x)data.table(t(x))))\n",
    "        result[[trait_names[i]]] <- res\n",
    "    }\n",
    "}"
   ]
  },
  {
   "cell_type": "code",
   "execution_count": 64,
   "id": "054a0c93-4e35-492f-b600-acc38cf715a8",
   "metadata": {},
   "outputs": [
    {
     "name": "stdout",
     "output_type": "stream",
     "text": [
      " list()\n"
     ]
    }
   ],
   "source": [
    "str(result)"
   ]
  },
  {
   "cell_type": "markdown",
   "id": "388f74ef-1165-4e73-aad4-b3e387c71ab6",
   "metadata": {},
   "source": [
    "# Neonatal Traits"
   ]
  },
  {
   "cell_type": "code",
   "execution_count": null,
   "id": "5b05266d-c0c6-4e48-bb6e-f609d53e2abb",
   "metadata": {},
   "outputs": [],
   "source": [
    "sumstat_files < -c(\n",
    "    \"/scratch/st-dennisjk-1/wcasazza/tmp_GWAS/neonatal_gwas/formatted/Pubertal_growth_PGF_PGM_combined.txt.sumstats.gz\",\n",
    "    \"/scratch/st-dennisjk-1/wcasazza/tmp_GWAS/neonatal_gwas/formatted/EGG_Obesity_Meta_Analysis_1.txt.sumstats.gz\",\n",
    "    \"/scratch/st-dennisjk-1/wcasazza/tmp_GWAS/neonatal_gwas/formatted/age_hay_fever_irnt.gwas.imputed_v3.both_sexes.tsv.sumstats.gz\",\n",
    "    \"/scratch/st-dennisjk-1/wcasazza/tmp_GWAS/neonatal_gwas/formatted/EGG-TotalGWG-Offspring.txt.sumstats.gz\",\n",
    "    \"/scratch/st-dennisjk-1/wcasazza/tmp_GWAS/neonatal_gwas/formatted/Pubertal_growth_PTF_PTM_combined.txt.sumstats.gz\",\n",
    "    \"/scratch/st-dennisjk-1/wcasazza/tmp_GWAS/neonatal_gwas/formatted/age_hay_fever_raw.gwas.imputed_v3.both_sexes.tsv.sumstats.gz\",\n",
    "    \"/scratch/st-dennisjk-1/wcasazza/tmp_GWAS/neonatal_gwas/formatted/age_asthma_raw.gwas.imputed_v3.both_sexes.tsv.sumstats.gz\",\n",
    "    \"/scratch/st-dennisjk-1/wcasazza/tmp_GWAS/neonatal_gwas/formatted/age_asthma_irnt.gwas.imputed_v3.both_sexes.tsv.sumstats.gz\",\n",
    "    \"/scratch/st-dennisjk-1/wcasazza/tmp_GWAS/neonatal_gwas/formatted/age_diabetes_raw.gwas.imputed_v3.both_sexes.tsv.sumstats.gz\",\n",
    "    \"/scratch/st-dennisjk-1/wcasazza/tmp_GWAS/neonatal_gwas/formatted/age_diabetes_irnt.gwas.imputed_v3.both_sexes.tsv.sumstats.gz\",\n",
    "    \"/scratch/st-dennisjk-1/wcasazza/tmp_GWAS/neonatal_gwas/formatted/EGG_BMI_HapMap_DISCOVERY.txt.sumstats.gz\",\n",
    "    \"/scratch/st-dennisjk-1/wcasazza/tmp_GWAS/neonatal_gwas/formatted/Pubertal_growth_10F_12M_combined.txt.sumstats.gz\",\n",
    "    \"/scratch/st-dennisjk-1/wcasazza/tmp_GWAS/neonatal_gwas/formatted/EGG_HC_DISCOVERY.v2.txt.sumstats.gz\",\n",
    "    \"/scratch/st-dennisjk-1/wcasazza/tmp_GWAS/neonatal_gwas/formatted/CHILD_ONSET_ASTHMA.20180501.allchr.assoc.GC.sumstats.gz\",\n",
    ")\n",
    "trait_names < -c(\n",
    "    \"ADHD\",\n",
    "    \"ANXFS\",\n",
    "    \"ANX\",\n",
    "    \"AN\",\n",
    "    \"AUDIT\",\n",
    "    \"CUD\",\n",
    "    \"ASD\",\n",
    "    \"OCD\",\n",
    "    \"ALC\",\n",
    "    \"BIP\",\n",
    "    \"MDD\",\n",
    "    \"MDD2018\",\n",
    "    \"SCZ\",\n",
    "    \"TAG_CPD\",\n",
    "    \"TS\",\n",
    "    \"PTSD\",\n",
    ")\n",
    "sample_prev < -c(\n",
    "    NULL, NULL, NULL, NULL, NULL, NULL, NULL, NULL, NULL, NULL, NULL, NULL, NULL, 0.0296\n",
    ")"
   ]
  },
  {
   "cell_type": "markdown",
   "id": "e4027330-29f2-4e3b-b9e3-64082d0956fa",
   "metadata": {},
   "source": [
    "## Summary of all trait colocalization"
   ]
  },
  {
   "cell_type": "code",
   "execution_count": 2,
   "id": "18f418a1-fa28-4ddf-9dcf-e02131ac8616",
   "metadata": {},
   "outputs": [],
   "source": [
    "trait_coloc <- dir(here(\"data\"),pattern= \".*colocalization.txt\",full.names = TRUE)\n",
    "all_coloc <- lapply(trait_coloc,fread)\n",
    "names(all_coloc) <- gsub(\".*/(.*)_colocalization.txt\",\"\\\\1\",trait_coloc)\n",
    "coloc_table <- rbindlist(all_coloc,idcol=\"GWAS\")"
   ]
  },
  {
   "cell_type": "code",
   "execution_count": 3,
   "id": "3e52491e-3244-4930-8050-abf7ae1d7595",
   "metadata": {},
   "outputs": [
    {
     "data": {
      "image/png": "[encoded data removed]",
      "text/plain": [
       "plot without title"
      ]
     },
     "metadata": {
      "image/png": {
       "height": 420,
       "width": 420
      }
     },
     "output_type": "display_data"
    },
    {
     "data": {
      "image/png": "[encoded data removed]",
      "text/plain": [
       "plot without title"
      ]
     },
     "metadata": {
      "image/png": {
       "height": 420,
       "width": 420
      }
     },
     "output_type": "display_data"
    }
   ],
   "source": [
    "to_plot <- coloc_table[!grepl(\"MALE|BIP|ANX|MDD|TAG_CPD|AUDIT\",GWAS),.(proportion = sum(PP.H4.abf > 0.9) / .N,count=sum(PP.H4.abf >0.9)),by=GWAS][count!=0]\n",
    "to_plot$GWAS <- recode_factor(\n",
    "    to_plot$GWAS,\n",
    "    \"ADHD\"=\"ADHD\",\n",
    "    \"AN\"=\"AN\",\n",
    "    \"CUD\"=\"Cannabis\",\n",
    "    \"SCZ\"=\"SCZ\",\n",
    "    \"AGE_ASTHMA(irnt)\" = \"ASTHMA Age (irnt)\",\n",
    "    \"AGE_ASTHMA(raw)\" = \"ASTHMA Age (raw)\",\n",
    "    \"HAY_FEVER(irnt)\" = \"HAYFEVER Age (irnt)\",\n",
    "    \"HAY_FEVER(raw)\" = \"HAYFEVER Age (raw)\",\n",
    "    \"CHILD_ASTHMA\" = \"CHILDHOOD_ONSET_ASTHMA\",\n",
    "    \"AGE_DIABETES(irnt)\" = \"DIABETES Age (irnt)\",\n",
    "    \"AGE_DIABETES(raw)\" = \"DIABETES Age (raw)\",\n",
    "    \"Type 1 Diabetes\"=\"Type 1 Diabetes\",\n",
    "    \"EGG_BMI\" = \"Childhood BMI\",\n",
    "    \"EGG_OBESITY\" = \"Childhood Obesity\",\n",
    "    \"10F_12M\" = \"Pubertal Growth Start\",\n",
    "    \"PGF_PGM\" = \"Late Pubertal Growth\")\n",
    "ggplot(\n",
    "    to_plot,\n",
    "    aes(GWAS,count)\n",
    ") +\n",
    "geom_col(fill=\"dark red\") +\n",
    "scale_y_continuous(breaks=1:20 * 10)+\n",
    "theme_minimal()+\n",
    "theme(axis.text.x = element_text(angle=90, hjust=1, vjust=1))\n",
    "\n",
    "to_plot <- coloc_table[\n",
    "        grepl(\"MALE\",GWAS),\n",
    "        .(\n",
    "            proportion = sum(PP.H4.abf > 0.9) / .N,\n",
    "            count=sum(PP.H4.abf >0.9)\n",
    "        ),\n",
    "        by=GWAS\n",
    "    ]\n",
    "to_plot <- to_plot[count != 0 & !grepl(\"BIP|ANX|MDD|TAG_CPD|AUDIT\",GWAS),.(\n",
    "        count,\n",
    "        proportion,\n",
    "        GWAS = gsub(\"_MALE|_FEMALE\",\"\",GWAS),\n",
    "        Sex=ifelse(grepl(\"FEMALE\",GWAS),\"Female\",\"Male\")\n",
    "    )\n",
    "]\n",
    "\n",
    "to_plot$GWAS <- recode_factor(\n",
    "    to_plot$GWAS,\n",
    "    \"ADHD\"=\"ADHD\",\n",
    "    \"AN\"=\"AN\",\n",
    "    \"CUD\"=\"Cannabis\",\n",
    "    \"SCZ\"=\"SCZ\",\n",
    "    \"AGE_ASTHMA(irnt)\" = \"ASTHMA Age (irnt)\",\n",
    "    \"AGE_ASTHMA(raw)\" = \"ASTHMA Age (raw)\",\n",
    "    \"HAY_FEVER(irnt)\" = \"HAYFEVER Age (irnt)\",\n",
    "    \"HAY_FEVER(raw)\" = \"HAYFEVER Age (raw)\",\n",
    "    \"CHILD_ASTHMA\" = \"CHILDHOOD_ONSET_ASTHMA\",\n",
    "    \"AGE_DIABETES(irnt)\" = \"DIABETES Age (irnt)\",\n",
    "    \"AGE_DIABETES(raw)\" = \"DIABETES Age (raw)\",\n",
    "    \"Type 1 Diabetes\"=\"Type 1 Diabetes\",\n",
    "    \"EGG_BMI\" = \"Childhood BMI\",\n",
    "    \"EGG_OBESITY\" = \"Childhood Obesity\",\n",
    "    \"10F_12M\" = \"Pubertal Growth Start\",\n",
    "    \"PGF_PGM\" = \"Late Pubertal Growth\")\n",
    "ggplot(\n",
    "   to_plot,\n",
    "    aes(GWAS,count,fill=Sex)\n",
    ") +\n",
    "geom_col(position=\"dodge\") +\n",
    "scale_fill_manual(values=c(\"pink\",\"light blue\"))+\n",
    "scale_y_continuous(breaks=seq(0,20,5))+\n",
    "theme_minimal()+\n",
    "theme(axis.text.x = element_text(angle=90, hjust=1, vjust=1))"
   ]
  },
  {
   "cell_type": "markdown",
   "id": "1c42f88c-1edc-44a4-a6fb-a5bce81f84b7",
   "metadata": {},
   "source": [
    "### Quick follow up experiments\n",
    "1. Plot number of colocalized CpGs as function of trait heritability\n",
    "2. Plot number of colocalized CpGs as a function of proportion of heritability explained by placental mQTL\n",
    "3. Plot number of genes corresponding to colocalized CpGs"
   ]
  },
  {
   "cell_type": "code",
   "execution_count": 4,
   "id": "a7515a45-4628-4655-83b9-3ac60115035e",
   "metadata": {
    "tags": []
   },
   "outputs": [],
   "source": [
    "# load in heritability results\n",
    "gwas_sample_sizes <- function(f){\n",
    "    N <- fread(f,nrows=1)$N\n",
    "    GWAS <- str_match(f,\".*/(.*).sumstats.gz\")[2]\n",
    "    return(data.table(GWAS=GWAS,N=N))\n",
    "}\n",
    "part_heritability_results_independent <- function(path){\n",
    "    part_heritability <- rbindlist(lapply(\n",
    "          dir(\n",
    "            path,\n",
    "            pattern = \"[marginal|sex_interaction|cord_mqtl|male_specific|female_specific|male|female]_bin_CPP_her_.*.results$\",\n",
    "            full.names = TRUE\n",
    "          ),\n",
    "          function(f) {\n",
    "            labels <- str_match(f, \".*/(marginal|sex_interaction|cord_mqtl|male_specific|female_specific|male|female)_(bin_CPP_her)_(.*).results$\")[-c(1)]\n",
    "            if (any(is.na(labels))) {\n",
    "              return(data.table())\n",
    "            } else {\n",
    "              dt <- fread(f)[1, !\"Category\"]\n",
    "              dt[, \n",
    "                `:=`(\n",
    "                  Coefficient_p=pnorm(abs(`Coefficient_z-score`),lower.tail=F)*2,\n",
    "                  mQTL_group = labels[1],\n",
    "                  annotation = labels[2],\n",
    "                  GWAS = labels[3])]\n",
    "              return(dt)\n",
    "            }\n",
    "          }\n",
    "        ))\n",
    "    log_files <- dir(\n",
    "        path,\n",
    "        pattern = glue(\".*.log$\"),\n",
    "        full.names = TRUE\n",
    "    )\n",
    "    log_files <-log_files[!grepl(\"_shared\",log_files)]\n",
    "    heritability <- rbindlist(lapply(\n",
    "      dir(\n",
    "        path,\n",
    "        pattern = glue(\".*.log$\"),\n",
    "        full.names = TRUE,\n",
    "        \n",
    "      ),\n",
    "      function(f) {\n",
    "        labels <- str_match(f, glue(\".*/(marginal|sex_interaction|cord_mqtl|male_specific|female_specific|male|female)_(all_cis_fdr|bin_CPP_her|maxCPP_her)_(.*).log\"))[-c(1)]\n",
    "        if (any(is.na(labels))) {\n",
    "          return(data.table())\n",
    "        } else if (nrow(part_heritability[GWAS == labels[3] & annotation == labels[2]]) == 0 ){\n",
    "          return(data.table())\n",
    "        }\n",
    "        else {\n",
    "          dat <- readLines(f)\n",
    "          dt <- data.table(\n",
    "            h2 = as.numeric(str_extract_all(dat[grepl(\"Total Observed\",dat)],\"-*\\\\d+.\\\\d+\")[[1]][1]),\n",
    "            h2_std_error = as.numeric(str_extract_all(dat[grepl(\"Total Observed\",dat)],\"\\\\d+.\\\\d+\")[[1]][2]),\n",
    "            total_SNP = as.numeric(str_match(dat[grepl(\"SNPs remain)\", dat)],\"\\\\((\\\\d+)\")[1,2]),\n",
    "            annotation = labels[2],\n",
    "            GWAS = labels[3]\n",
    "          )\n",
    "          return(dt)\n",
    "        }\n",
    "      }\n",
    "    ))\n",
    "    heritability <- heritability[which(!duplicated(GWAS))]\n",
    "    result <- merge(part_heritability,heritability,by=c(\"GWAS\",\"annotation\"))\n",
    "    return(result)\n",
    "}\n",
    "\n",
    "part_heritability_results <- function(path,modifier){\n",
    "    part_heritability <- rbindlist(lapply(\n",
    "      dir(\n",
    "        path,\n",
    "        pattern = glue(\".*{modifier}.results$\"),\n",
    "        full.names = TRUE\n",
    "      ),\n",
    "      function(f) {\n",
    "        labels <- str_match(f, glue(\".*/(all_cis_fdr|bin_CPP_her|maxCPP_her)_(.*){modifier}.results\"))[-c(1)]\n",
    "        if (any(is.na(labels))) {zzzzzzz\n",
    "          return(data.table())\n",
    "        } else {\n",
    "          dt <- fread(f)\n",
    "          dt[, \n",
    "            `:=`(\n",
    "              Coefficient_p=pnorm(abs(`Coefficient_z-score`),lower.tail=F)*2,\n",
    "              annotation = labels[1],\n",
    "              GWAS = labels[2])]\n",
    "          return(dt)\n",
    "        }\n",
    "      }\n",
    "    ))\n",
    "    heritability <- rbindlist(lapply(\n",
    "      dir(\n",
    "        path,\n",
    "        pattern = glue(\".*{modifier}.log$\"),\n",
    "        full.names = TRUE\n",
    "      ),\n",
    "      function(f) {\n",
    "        labels <- str_match(f, glue(\".*/(bin_CPP_her)_(.*){modifier}.log\"))[-c(1)]\n",
    "        if (any(is.na(labels))) {\n",
    "          return(data.table())\n",
    "        } else if (nrow(part_heritability[GWAS == labels[2] & annotation == labels[1]]) == 0 ){\n",
    "          return(data.table())\n",
    "        }\n",
    "        else {\n",
    "          dat <- readLines(f)\n",
    "          dt <- data.table(\n",
    "            h2 = as.numeric(str_extract_all(dat[grepl(\"Total Observed\",dat)],\"-*\\\\d+.\\\\d+\")[[1]][1]),\n",
    "            h2_std_error = as.numeric(str_extract_all(dat[grepl(\"Total Observed\",dat)],\"\\\\d+.\\\\d+\")[[1]][2]),\n",
    "            total_SNP = as.numeric(str_match(dat[grepl(\"SNPs remain)\", dat)],\"\\\\((\\\\d+)\")[1,2]),\n",
    "            annotation = labels[1],\n",
    "            GWAS = labels[2]\n",
    "          )\n",
    "          return(dt)\n",
    "        }\n",
    "      }\n",
    "    ))\n",
    "    result <- merge(part_heritability,heritability,by=c(\"GWAS\",\"annotation\"))\n",
    "    return(result)\n",
    "}\n",
    "annotation_SD <- function(path,file_pattern){\n",
    "    annots <- rbindlist(mclapply(dir(path,full.names=TRUE,pattern=file_pattern),function(f) fread(f),mc.cores=22))\n",
    "    return(apply(annots[,-c(1,2,3,4)],2,sd))    \n",
    "}\n",
    "pgc_part_heritability_independent_df <- part_heritability_results_independent(\"/scratch/st-dennisjk-1/wcasazza/delahaye_QC/ldsc_meta_EUR_pgc_original_baseline/\")\n",
    "neonatal_part_heritability_independent_df <- part_heritability_results_independent(\"/scratch/st-dennisjk-1/wcasazza/delahaye_QC/ldsc_meta_EUR_neonatal_original_baseline/\")\n",
    "\n",
    "                                 \n",
    "pgc_GWAS_key <- c(\n",
    "    \"adhd_jul2017\" = \"ADHD\",\n",
    "    \"pgc_adhd_males\" = \"ADHD Males\",\n",
    "    \"pgc_adhd_females\" = \"ADHD Females\",\n",
    "    \"pts_all_freeze2_overall.results\" = \"PTSD\",\n",
    "    \"pts_all_freeze2_males.results\" = \"PTSD Males\",\n",
    "    \"pts_all_freeze2_females.results\" = \"PTSD Females\",\n",
    "    \"iPSYCH-PGC_ASD_Nov2017\" = \"ASD\",\n",
    "    \"NEW_META_PGC_iPSYCH_ASD_males\" = \"ASD Males\",\n",
    "    \"NEW_META_PGC_iPSYCH_ASD_females\" = \"ASD Females\",\n",
    "    \"PGC_UKB_depression_genome-wide.txt\" = \"MDD\",\n",
    "    \"meta_STDERR_mdd_eur_auto_M1_08_gcOFF_pgc.txt\" = \"MDD Males\",\n",
    "    \"meta_STDERR_mdd_eur_auto_F1_08_gcOFF_pgc.txt\" = \"MDD Females\",\n",
    "    \"meta_STDERR_rmdd_eur_auto_M1_08_gcOFF_pgc.txt.gz\" = \"RMDD Males\",\n",
    "    \"meta_STDERR_rmdd_eur_auto_F1_08_gcOFF_pgc.txt.gz\" = \"RMDD Females\",\n",
    "    \"ocd_aug2017\" = \"OCD\",\n",
    "    \"OCD_meta_male_auto_072416.gz\" = \"OCD Males\",\n",
    "    \"OCD_meta_female_auto_072416.gz\" = \"OCD Females\",\n",
    "    \"anxiety.meta.full.cc.tbl\" = \"ANX\",\n",
    "    \"ukbb_anxiety.gwas.imputed_v3.both_sexes.tsv.gz.fixed\" = \"UKBB-ANX\",\n",
    "    \"ukbb_anxiety.gwas.imputed_v3.male.tsv.gz.fixed\" = \"UKBB-ANX Males\",\n",
    "    \"ukbb_anxiety.gwas.imputed_v3.female.tsv.gz.fixed\" = \"UKBB-ANX Females\",\n",
    "    \"anxiety.meta.full.fs.tbl\" = \"ANXFS\",\n",
    "    \"pgc_bip_2018\" = \"BIP\",\n",
    "    \"meta_STDERR_bip_eur_auto_M1_08_gcOFF_pgc.txt.gz\" = \"BIP Males\",\n",
    "    \"meta_STDERR_bip_eur_auto_F1_08_gcOFF_pgc.txt.gz\" = \"BIP Females\",\n",
    "    \"PGC3_SCZ_wave3_public.v2.tsv\" = \"SCZ\",\n",
    "    \"meta_STDERR_scz_eur_auto_M1_08_gcOFF_pgc.txt.gz\" = \"SCZ Males\",\n",
    "    \"meta_STDERR_scz_eur_auto_F1_08_gcOFF_pgc.txt.gz\" = \"SCZ Females\",\n",
    "    \"pgcAN2.2019-07.vcf.tsv\" = \"AN\",\n",
    "    \"TS_Oct2018\" = \"TS\",\n",
    "    \"pgc.cross.full.2013-03.txt\" = \"Cross Disorder\",\n",
    "    \"AUDIT_UKB_2018_AJP.txt\" = \"Alcohol (AUDIT)\",\n",
    "    \"pgc_alcdep.eur_unrelated.aug2018_release.txt\" = \"ALC\",\n",
    "    \"Cannabis_ICC_23andmetop_UKB_het.txt\" = \"Cannabis\",\n",
    "    \"tag.cpd.tbl\" = \"Cigarettes Per Day\"\n",
    ")\n",
    "neonatal_GWAS_key <- c(\n",
    "    \"age_asthma_irnt.gwas.imputed_v3.both_sexes.tsv\" = \"AGE_ASTHMA(norm)\",\n",
    "    \"age_asthma_irnt.gwas.imputed_v3.female.tsv\" = \"ASTHMA Age(norm) Females\",\n",
    "    \"age_asthma_irnt.gwas.imputed_v3.male.tsv\"= \"ASTHMA Age(norm) Males\",\n",
    "    \"age_asthma_raw.gwas.imputed_v3.both_sexes.tsv\" = \"AGE_ASTHMA(raw)\",\n",
    "    \"age_asthma_raw.gwas.imputed_v3.female.tsv\" = \"ASTHMA Age(raw) Females\",\n",
    "    \"age_asthma_raw.gwas.imputed_v3.male.tsv\" = \"ASTHMA Age(raw) Males\",\n",
    "    \"age_diabetes_irnt.gwas.imputed_v3.both_sexes.tsv\" = \"AGE_DIABETES(norm)\",\n",
    "    \"age_diabetes_irnt.gwas.imputed_v3.female.tsv\"= \"DIABETES Age(norm) Females\",\n",
    "    \"age_diabetes_irnt.gwas.imputed_v3.male.tsv\"= \"DIABETES Age(norm) Males\",\n",
    "    \"age_diabetes_raw.gwas.imputed_v3.both_sexes.tsv\"= \"AGE_DIABETES(raw)\",\n",
    "    \"age_diabetes_raw.gwas.imputed_v3.female.tsv\"= \"DIABETES Age(raw) Females\",\n",
    "    \"age_diabetes_raw.gwas.imputed_v3.male.tsv\"= \"DIABETES Age(raw) Males\",\n",
    "    \"age_hay_fever_irnt.gwas.imputed_v3.both_sexes.tsv\"= \"HAYFEVER(norm)\",\n",
    "    \"age_hay_fever_irnt.gwas.imputed_v3.female.tsv\"= \"HAYFEVER Age(norm) Females\",\n",
    "    \"age_hay_fever_irnt.gwas.imputed_v3.male.tsv\"= \"HAYFEVER Age(norm) Males\",\n",
    "    \"age_hay_fever_raw.gwas.imputed_v3.both_sexes.tsv\"= \"HAYFEVER(raw)\",\n",
    "    \"age_hay_fever_raw.gwas.imputed_v3.female.tsv\"= \"HAYFEVER Age(raw) Females\",\n",
    "    \"age_hay_fever_raw.gwas.imputed_v3.male.tsv\"= \"HAYFEVER Age(raw) Males\",\n",
    "    \"CHILD_ONSET_ASTHMA.20180501.allchr.assoc.GC\" = \"CHILD_ASTHMA\",\n",
    "    \"EGG_BMI_HapMap_DISCOVERY.txt\" = \"EGG_BMI\",\n",
    "    \"EGG_HC_DISCOVERY.v2.txt\" = \"Head Circumference\",\n",
    "    \"EGG_Obesity_Meta_Analysis_1.txt\" = \"EGG_OBESITY\",\n",
    "    \"EGG_TANNER_females.v2.txt\" = \"TANNER Stage Females\",\n",
    "    \"EGG_TANNER_males_and_females_combined.v2.txt\" = \"TANNER Stage\",\n",
    "    \"EGG_TANNER_males.v2.txt\" = \"TANNER Stage Males\",\n",
    "    \"EGG-TotalGWG-Offspring.txt\" = \"GWG\",\n",
    "    \"Pubertal_growth_10F_12M_combined.txt\" = \"10F_12M\",\n",
    "    \"Pubertal_growth_10F.txt\" = \"Pubertal Growth Start Females\",\n",
    "    \"Pubertal_growth_12M.txt\" = \"Pubertal Growth Start Males\",\n",
    "    \"Pubertal_growth_PGF_PGM_combined.txt\" = \"PGF_PGM\",\n",
    "    \"Pubertal_growth_PGF.txt\" = \"Total Pubertal Growth Females\",\n",
    "    \"Pubertal_growth_PGM.txt\" = \"Total Pubertal Growth Males\",\n",
    "    \"Pubertal_growth_PTF_PTM_combined.txt\" = \"PTF_PTM\",\n",
    "    \"Pubertal_growth_PTF.txt\" = \"Late Pubertal Growth Females\",\n",
    "    \"Pubertal_growth_PTM.txt\" = \"Late Pubertal Growth Males\",\n",
    "    \"ukbb_preeclampsia.gwas.imputed_v3.female.tsv\"= \"Pre-Eclampsia During Pregnancy\"\n",
    ")\n",
    "                                                                 \n",
    "                                 \n",
    "neonatal_part_heritability_independent_df <- neonatal_part_heritability_independent_df %>% mutate(\n",
    "        significant_coef = Coefficient_p < 0.05, \n",
    "        significant_enrich = Enrichment_p < 0.05,\n",
    "        GWAS = recode(GWAS, !!!neonatal_GWAS_key),\n",
    "        Category = recode(mQTL_group,marginal=\"Cross-sex\",sex_interaction=\"Sex dependent\", male_specific = \"Male Specific\", female_specific= \"Female Specific\",male= \"Male Stratified\", female=\"Female Stratified\", cord_mqtl='Cord Blood')\n",
    "    ) %>%\n",
    "    mutate(GWAS = factor(GWAS,levels=neonatal_GWAS_key)) %>% na.omit()\n",
    "                                 \n",
    "pgc_part_heritability_independent_df <- pgc_part_heritability_independent_df %>% mutate(\n",
    "        significant_coef = Coefficient_p < 0.05, \n",
    "        significant_enrich = Enrichment_p < 0.05,\n",
    "        GWAS = recode(GWAS, !!!pgc_GWAS_key),\n",
    "        Category = recode(mQTL_group,marginal=\"Cross-sex\",sex_interaction=\"Sex dependent\", male_specific = \"Male Specific\", female_specific= \"Female Specific\",male= \"Male Stratified\", female=\"Female Stratified\", cord_mqtl='Cord Blood')\n",
    "    ) %>%\n",
    "    mutate(GWAS = factor(GWAS,levels=pgc_GWAS_key))  %>% na.omit()\n",
    "                                 "
   ]
  },
  {
   "cell_type": "code",
   "execution_count": 5,
   "id": "9cedeb7a-a58f-4a49-9a3d-c926402566fa",
   "metadata": {},
   "outputs": [],
   "source": [
    "manifest < -fread(\"../../450k_annotation.csv\")  # Gene mapping"
   ]
  },
  {
   "cell_type": "code",
   "execution_count": 76,
   "id": "918b09b4-748e-410d-bb9e-ee9ca50ad9cf",
   "metadata": {},
   "outputs": [
    {
     "data": {
      "text/html": [
       "<style>\n",
       ".list-inline {list-style: none; margin:0; padding: 0}\n",
       ".list-inline>li {display: inline-block}\n",
       ".list-inline>li:not(:last-child)::after {content: \"\\00b7\"; padding: 0 .5ex}\n",
       "</style>\n",
       "<ol class=list-inline><li>'Cross-sex'</li><li>'Female'</li><li>'Male'</li></ol>\n"
      ],
      "text/latex": [
       "\\begin{enumerate*}\n",
       "\\item 'Cross-sex'\n",
       "\\item 'Female'\n",
       "\\item 'Male'\n",
       "\\end{enumerate*}\n"
      ],
      "text/markdown": [
       "1. 'Cross-sex'\n",
       "2. 'Female'\n",
       "3. 'Male'\n",
       "\n",
       "\n"
      ],
      "text/plain": [
       "[1] \"Cross-sex\" \"Female\"    \"Male\"     "
      ]
     },
     "metadata": {},
     "output_type": "display_data"
    }
   ],
   "source": [
    "coloc_sex <- coloc_table %>%\n",
    "    mutate(GWAS = as.character(GWAS)) %>% \n",
    "    mutate(\n",
    "        Sex=ifelse(grepl(\"FEMALE\",GWAS),\"Female\",ifelse(grepl(\"MALE\",GWAS),\"Male\",\"Cross-sex\")),\n",
    "        GWAS = gsub(\"_MALE|_FEMALE\",\"\",GWAS)\n",
    "    ) %>%\n",
    "    mutate(\n",
    "    GWAS =  as.character(recode_factor(\n",
    "    GWAS,\n",
    "    \"ADHD\"=\"ADHD\",\n",
    "    \"AN\"=\"AN\",\n",
    "    \"CUD\"=\"Cannabis\",\n",
    "    \"SCZ\"=\"SCZ\",\n",
    "    \"AGE_ASTHMA(irnt)\" = \"ASTHMA Age (irnt)\",\n",
    "    \"AGE_ASTHMA(raw)\" = \"ASTHMA Age (raw)\",\n",
    "    \"HAY_FEVER(irnt)\" = \"HAYFEVER Age (irnt)\",\n",
    "    \"HAY_FEVER(raw)\" = \"HAYFEVER Age (raw)\",\n",
    "    \"CHILD_ASTHMA\" = \"CHILDHOOD_ONSET_ASTHMA\",\n",
    "    \"AGE_DIABETES(irnt)\" = \"DIABETES Age (irnt)\",\n",
    "    \"AGE_DIABETES(raw)\" = \"DIABETES Age (raw)\",\n",
    "    \"Type 1 Diabetes\"=\"Type 1 Diabetes\",\n",
    "    \"EGG_BMI\" = \"Childhood BMI\",\n",
    "    \"EGG_OBESITY\" = \"Childhood Obesity\",\n",
    "    \"10F_12M\" = \"Pubertal Growth Start\",\n",
    "    \"PGF_PGM\" = \"Late Pubertal Growth\"\n",
    ")))\n",
    "unique(coloc_sex$Sex)\n",
    "coloc_sex_manifest <- merge(coloc_sex,manifest[,.(Name,UCSC_RefGene_Name)],by.x=\"probe\",by.y=\"Name\")\n",
    "all_data <- merge(merge(rbind(pgc_part_heritability_independent_df,neonatal_part_heritability_independent_df)[Category == \"Cross-sex\"],coloc_table,by=\"GWAS\"),manifest[,.(Name,UCSC_RefGene_Name)],by.x=\"probe\",by.y=\"Name\")"
   ]
  },
  {
   "cell_type": "code",
   "execution_count": 52,
   "id": "f7ac949b-9505-441d-9594-6d30f395698f",
   "metadata": {},
   "outputs": [
    {
     "name": "stderr",
     "output_type": "stream",
     "text": [
      "Warning message in cor.test.default(df$count, df$h2, method = \"spearman\"):\n",
      "“Cannot compute exact p-value with ties”\n",
      "Warning message in cor.test.default(df$count, df$Prop._h2, method = \"spearman\"):\n",
      "“Cannot compute exact p-value with ties”\n"
     ]
    },
    {
     "data": {
      "image/png": "[encoded data removed]",
      "text/plain": [
       "plot without title"
      ]
     },
     "metadata": {
      "image/png": {
       "height": 420,
       "width": 420
      }
     },
     "output_type": "display_data"
    },
    {
     "data": {
      "image/png": "[encoded data removed]",
      "text/plain": [
       "plot without title"
      ]
     },
     "metadata": {
      "image/png": {
       "height": 420,
       "width": 420
      }
     },
     "output_type": "display_data"
    }
   ],
   "source": [
    "df <- all_data[,.(count=sum(PP.H4.abf >0.9),h2,h2_std_error,Prop._h2),by=\"GWAS\"]\n",
    "df <- df[(h2 / h2_std_error) > 1.64]\n",
    "ggplot(df%>% filter(count != 0),aes(count,h2, label=GWAS)) + \n",
    "    geom_point()+\n",
    "    geom_text(hjust=0)+\n",
    "    ggtitle(bquote(rho==.(round(cor.test(df$count,df$h2,method=\"spearman\")$estimate,3))))\n",
    "\n",
    "\n",
    "ggplot(df %>% filter(count != 0),aes(count,Prop._h2, label=GWAS)) + \n",
    "    geom_point()+\n",
    "    geom_text(hjust=0)+\n",
    "    ggtitle(bquote(rho==.(round(cor.test(df$count,df$Prop._h2,method=\"spearman\")$estimate,3))))"
   ]
  },
  {
   "cell_type": "code",
   "execution_count": 8,
   "id": "a3e3d8b5-6131-4580-b743-53b206ef387a",
   "metadata": {},
   "outputs": [
    {
     "data": {
      "image/png": "[encoded data removed]",
      "text/plain": [
       "plot without title"
      ]
     },
     "metadata": {
      "image/png": {
       "height": 420,
       "width": 420
      }
     },
     "output_type": "display_data"
    }
   ],
   "source": [
    "ggplot(\n",
    "    all_data[PP.H4.abf >0.9,.(count=uniqueN(gsub(\";.*\",\"\",UCSC_RefGene_Name))),by=GWAS],\n",
    "    aes(GWAS,count)\n",
    ") +\n",
    "geom_col() +\n",
    "theme(axis.text.x = element_text(angle=90, hjust=1, vjust=1))"
   ]
  },
  {
   "cell_type": "markdown",
   "id": "b1ccc178-09c3-48fe-af2a-adad91824a0e",
   "metadata": {},
   "source": [
    "### Writing out data to a single table"
   ]
  },
  {
   "cell_type": "code",
   "execution_count": 86,
   "id": "37e5478d-5e4a-42ec-92a8-7d320aa4b3c4",
   "metadata": {},
   "outputs": [],
   "source": [
    "to_write <- coloc_sex_manifest%>% filter(PP.H4.abf > 0.9,!grepl(\"BIP|ANX|MDD|TAG_CPD|AUDIT\",GWAS))\n",
    "to_write$gene <- to_write$UCSC_RefGene_Name\n",
    "to_write$UCSC_RefGene_Name <- NULL\n",
    "to_write$gene <- gsub(\";.*\",\"\",to_write$gene)\n",
    "\n",
    "to_write %>%\n",
    "    select(Sex,GWAS,probe,gene,everything()) %>%\n",
    "    arrange(GWAS,Sex,-PP.H4.abf) %>%\n",
    "    write_csv(here(\"data\",\"all_PH4_coloc.csv\"))"
   ]
  },
  {
   "cell_type": "markdown",
   "id": "bc25c306-0799-4c09-bbf0-14a5a66fa3cc",
   "metadata": {},
   "source": [
    "### More involved follow-up\n",
    "Intersection/difference in loci found for sex stratified GWAS & sex stratified placental mQTL vs cross-sex GWAS & cross-sex placental mQTL"
   ]
  },
  {
   "cell_type": "code",
   "execution_count": null,
   "id": "78944914-9025-401a-a5b1-9832e3a967ee",
   "metadata": {},
   "outputs": [],
   "source": []
  }
 ],
 "metadata": {
  "kernelspec": {
   "display_name": "R",
   "language": "R",
   "name": "ir"
  },
  "language_info": {
   "codemirror_mode": "r",
   "file_extension": ".r",
   "mimetype": "text/x-r-source",
   "name": "R",
   "pygments_lexer": "r",
   "version": "4.0.3"
  },
  "widgets": {
   "application/vnd.jupyter.widget-state+json": {
    "state": {},
    "version_major": 2,
    "version_minor": 0
   }
  }
 },
 "nbformat": 4,
 "nbformat_minor": 5
}
