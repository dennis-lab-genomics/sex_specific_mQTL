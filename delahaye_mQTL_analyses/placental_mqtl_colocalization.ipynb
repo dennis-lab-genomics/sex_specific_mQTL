{
 "cells": [
  {
   "cell_type": "markdown",
   "id": "aaefee8b-a24d-4c47-8832-aa497646ad4d",
   "metadata": {
    "tags": []
   },
   "source": [
    "# Colocalization between placental mQTL, psychiatric and developmental traits\n",
    "\n",
    "Idea: for all heritable CpGs, test for colocalization between traits and GWAS summary statistics for conditions where a significant proportion of heritability can be explained by placental mQTL.\n",
    "Traits to include:\n",
    "* Neuropsychiatric\n",
    "    1. OCD\n",
    "    1. TS\n",
    "    1. ADHD\n",
    "    1. ASD\n",
    "    1. MDD\n",
    "    1. BIP\n",
    "    1. AN\n",
    "    1. SCZ\n",
    "* Developmental: \n",
    "    1. Pubertal Growth Start\n",
    "    1. Asthma\n",
    "    1. Child BMI\n",
    "    1. Child Onset Asthma"
   ]
  },
  {
   "cell_type": "code",
   "execution_count": 2,
   "id": "91e6db99-806a-49f2-a72f-63d3b0b20b93",
   "metadata": {},
   "outputs": [
    {
     "name": "stderr",
     "output_type": "stream",
     "text": [
      "── \u001b[1mAttaching packages\u001b[22m ─────────────────────────────────────── tidyverse 1.3.1 ──\n",
      "\n",
      "\u001b[32m✔\u001b[39m \u001b[34mggplot2\u001b[39m 3.3.5     \u001b[32m✔\u001b[39m \u001b[34mpurrr  \u001b[39m 0.3.4\n",
      "\u001b[32m✔\u001b[39m \u001b[34mtibble \u001b[39m 3.1.4     \u001b[32m✔\u001b[39m \u001b[34mdplyr  \u001b[39m 1.0.7\n",
      "\u001b[32m✔\u001b[39m \u001b[34mtidyr  \u001b[39m 1.1.3     \u001b[32m✔\u001b[39m \u001b[34mstringr\u001b[39m 1.4.0\n",
      "\u001b[32m✔\u001b[39m \u001b[34mreadr  \u001b[39m 1.4.0     \u001b[32m✔\u001b[39m \u001b[34mforcats\u001b[39m 0.5.1\n",
      "\n",
      "Warning message:\n",
      "“package ‘tibble’ was built under R version 4.1.1”\n",
      "── \u001b[1mConflicts\u001b[22m ────────────────────────────────────────── tidyverse_conflicts() ──\n",
      "\u001b[31m✖\u001b[39m \u001b[34mdplyr\u001b[39m::\u001b[32mfilter()\u001b[39m masks \u001b[34mstats\u001b[39m::filter()\n",
      "\u001b[31m✖\u001b[39m \u001b[34mdplyr\u001b[39m::\u001b[32mlag()\u001b[39m    masks \u001b[34mstats\u001b[39m::lag()\n",
      "\n",
      "\n",
      "Attaching package: ‘data.table’\n",
      "\n",
      "\n",
      "The following objects are masked from ‘package:dplyr’:\n",
      "\n",
      "    between, first, last\n",
      "\n",
      "\n",
      "The following object is masked from ‘package:purrr’:\n",
      "\n",
      "    transpose\n",
      "\n",
      "\n",
      "here() starts at /scratch/st-dennisjk-1/wcasazza/sex_specific_mQTL\n",
      "\n"
     ]
    }
   ],
   "source": [
    "library(tidyverse)\n",
    "library(data.table)\n",
    "library(coloc)\n",
    "library(here)"
   ]
  },
  {
   "cell_type": "code",
   "execution_count": 3,
   "id": "e6bdb75a-3ede-421e-9bbf-a2d932099884",
   "metadata": {},
   "outputs": [],
   "source": [
    "heritability <- fread(here(\"data\",\"cis_heritability.txt.gz\"))[Pval < 0.1]\n",
    "if(file.exists(here(\"data\",\"marginal_meta_maf01_heritable.txt.gz\"))){\n",
    "    marginal <- fread(here(\"data\",\"marginal_meta_maf01_heritable.txt.gz\"))\n",
    "}else{\n",
    "    marginal <- fread(here(\"data\",\"delahaye_richs_marginal_meta_matrixeqtl_maf01.txt.gz\"))[heritability,on=c(gene=\"probe\"),nomatch=0]\n",
    "    fwrite(marginal,here(\"data\",\"marginal_meta_maf01_heritable.txt.gz\"), sep='\\t')\n",
    "}\n",
    "if(file.exists(here(\"data\",\"male_meta_maf01_heritable.txt.gz\"))){\n",
    "    male <- fread(here(\"data\",\"male_meta_maf01_heritable.txt.gz\"))\n",
    "}else{\n",
    "    male <- fread(here(\"data\",\"delahaye_richs_male_meta_matrixeqtl_maf01.txt.gz\"))[heritability,on=c(gene=\"probe\"),nomatch=0]\n",
    "    fwrite(male,here(\"data\",\"male_meta_maf01_heritable.txt.gz\"), sep='\\t')\n",
    "}\n",
    "if(file.exists(here(\"data\",\"female_meta_maf01_heritable.txt.gz\"))){\n",
    "    female <- fread(here(\"data\",\"female_meta_maf01_heritable.txt.gz\"))\n",
    "}else{\n",
    "    female <- fread(here(\"data\",\"delahaye_richs_female_meta_matrixeqtl_maf01.txt.gz\"))[heritability,on=c(gene=\"probe\"),nomatch=0]\n",
    "    fwrite(female,here(\"data\",\"female_meta_maf01_heritable.txt.gz\"), sep='\\t')\n",
    "}"
   ]
  },
  {
   "cell_type": "code",
   "execution_count": null,
   "id": "5c2a046c-964e-4c67-b714-2ce1f6ee512b",
   "metadata": {},
   "outputs": [],
   "source": []
  }
 ],
 "metadata": {
  "kernelspec": {
   "display_name": "R [conda env:misc_bio]",
   "language": "R",
   "name": "conda-env-misc_bio-r"
  },
  "language_info": {
   "codemirror_mode": "r",
   "file_extension": ".r",
   "mimetype": "text/x-r-source",
   "name": "R",
   "pygments_lexer": "r",
   "version": "4.1.0"
  },
  "widgets": {
   "application/vnd.jupyter.widget-state+json": {
    "state": {},
    "version_major": 2,
    "version_minor": 0
   }
  }
 },
 "nbformat": 4,
 "nbformat_minor": 5
}
