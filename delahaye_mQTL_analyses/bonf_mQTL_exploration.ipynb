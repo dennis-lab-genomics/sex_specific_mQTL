{
 "cells": [
  {
   "cell_type": "markdown",
   "id": "0331e9a6-1368-412e-9d04-882b1dbfb317",
   "metadata": {},
   "source": [
    "# Exploration on mQTL significant at Bonferroni $\\alpha < 0.05$\n",
    "1. SNP-level and effect size exploration (read through current draft)\n",
    "1. CpG-level counting\n",
    "1. Gene-level counting and enrichment (export genes to FUMA for analysis)"
   ]
  },
  {
   "cell_type": "code",
   "execution_count": 1,
   "id": "85fcebf9-bc5a-4b3e-bc3f-36d3517347a4",
   "metadata": {},
   "outputs": [
    {
     "name": "stderr",
     "output_type": "stream",
     "text": [
      "here() starts at /scratch/st-dennisjk-1/wcasazza/sex_specific_mQTL\n",
      "\n",
      "── \u001b[1mAttaching packages\u001b[22m ─────────────────────────────────────── tidyverse 1.3.1 ──\n",
      "\n",
      "\u001b[32m✔\u001b[39m \u001b[34mggplot2\u001b[39m 3.3.5     \u001b[32m✔\u001b[39m \u001b[34mpurrr  \u001b[39m 0.3.4\n",
      "\u001b[32m✔\u001b[39m \u001b[34mtibble \u001b[39m 3.1.4     \u001b[32m✔\u001b[39m \u001b[34mdplyr  \u001b[39m 1.0.7\n",
      "\u001b[32m✔\u001b[39m \u001b[34mtidyr  \u001b[39m 1.1.3     \u001b[32m✔\u001b[39m \u001b[34mstringr\u001b[39m 1.4.0\n",
      "\u001b[32m✔\u001b[39m \u001b[34mreadr  \u001b[39m 1.4.0     \u001b[32m✔\u001b[39m \u001b[34mforcats\u001b[39m 0.5.1\n",
      "\n",
      "Warning message:\n",
      "“package ‘tibble’ was built under R version 4.1.1”\n",
      "── \u001b[1mConflicts\u001b[22m ────────────────────────────────────────── tidyverse_conflicts() ──\n",
      "\u001b[31m✖\u001b[39m \u001b[34mdplyr\u001b[39m::\u001b[32mbetween()\u001b[39m   masks \u001b[34mdata.table\u001b[39m::between()\n",
      "\u001b[31m✖\u001b[39m \u001b[34mdplyr\u001b[39m::\u001b[32mfilter()\u001b[39m    masks \u001b[34mstats\u001b[39m::filter()\n",
      "\u001b[31m✖\u001b[39m \u001b[34mdplyr\u001b[39m::\u001b[32mfirst()\u001b[39m     masks \u001b[34mdata.table\u001b[39m::first()\n",
      "\u001b[31m✖\u001b[39m \u001b[34mdplyr\u001b[39m::\u001b[32mlag()\u001b[39m       masks \u001b[34mstats\u001b[39m::lag()\n",
      "\u001b[31m✖\u001b[39m \u001b[34mdplyr\u001b[39m::\u001b[32mlast()\u001b[39m      masks \u001b[34mdata.table\u001b[39m::last()\n",
      "\u001b[31m✖\u001b[39m \u001b[34mpurrr\u001b[39m::\u001b[32mtranspose()\u001b[39m masks \u001b[34mdata.table\u001b[39m::transpose()\n",
      "\n"
     ]
    }
   ],
   "source": [
    "library(here)\n",
    "library(data.table)\n",
    "library(tidyverse)"
   ]
  },
  {
   "cell_type": "code",
   "execution_count": 2,
   "id": "388c8814-5c2d-45fc-b92f-1a8a515ddb50",
   "metadata": {},
   "outputs": [],
   "source": [
    "male < -fread(here(\"data\", \"delahaye_richs_male_bonf_maf05.txt.gz\"))\n",
    "female < -fread(here(\"data\", \"delahaye_richs_female_bonf_maf05.txt.gz\"))\n",
    "sex_interaction < -fread(\n",
    "    here(\"data\", \"delahaye_richs_sex_interaction_bonf_maf05.txt.gz\")\n",
    ")\n",
    "marginal < -fread(here(\"data\", \"delahaye_richs_marginal_bonf_maf05.txt.gz\"))"
   ]
  },
  {
   "cell_type": "markdown",
   "id": "f6908792-5e4d-4ebd-9012-0ff11db265f2",
   "metadata": {},
   "source": [
    "## Effect size differences"
   ]
  },
  {
   "cell_type": "code",
   "execution_count": 3,
   "id": "5b0735db-316c-44ed-b164-6d2fe2207c6c",
   "metadata": {},
   "outputs": [
    {
     "data": {
      "text/html": [
       "<table class=\"dataframe\">\n",
       "<caption>A data.table: 6 × 14</caption>\n",
       "<thead>\n",
       "\t<tr><th scope=col>SNP</th><th scope=col>Chr</th><th scope=col>BP</th><th scope=col>A1</th><th scope=col>A2</th><th scope=col>Freq</th><th scope=col>Probe</th><th scope=col>Probe_Chr</th><th scope=col>Probe_bp</th><th scope=col>Gene</th><th scope=col>Orientation</th><th scope=col>b</th><th scope=col>SE</th><th scope=col>p</th></tr>\n",
       "\t<tr><th scope=col>&lt;chr&gt;</th><th scope=col>&lt;int&gt;</th><th scope=col>&lt;int&gt;</th><th scope=col>&lt;chr&gt;</th><th scope=col>&lt;chr&gt;</th><th scope=col>&lt;dbl&gt;</th><th scope=col>&lt;chr&gt;</th><th scope=col>&lt;int&gt;</th><th scope=col>&lt;int&gt;</th><th scope=col>&lt;chr&gt;</th><th scope=col>&lt;chr&gt;</th><th scope=col>&lt;dbl&gt;</th><th scope=col>&lt;dbl&gt;</th><th scope=col>&lt;dbl&gt;</th></tr>\n",
       "</thead>\n",
       "<tbody>\n",
       "\t<tr><td>rs12562034</td><td>1</td><td>768448</td><td>G</td><td>A</td><td>0.116438</td><td>cg23100540</td><td>1</td><td>805554</td><td>cg23100540</td><td>+</td><td>-0.0924605</td><td>0.01462790</td><td>2.60174e-10</td></tr>\n",
       "\t<tr><td>rs72631880</td><td>1</td><td>805556</td><td>T</td><td>A</td><td>0.116438</td><td>cg23100540</td><td>1</td><td>805554</td><td>cg23100540</td><td>+</td><td>-0.1014630</td><td>0.01424680</td><td>1.06551e-12</td></tr>\n",
       "\t<tr><td>rs9697378 </td><td>1</td><td>832060</td><td>G</td><td>A</td><td>0.684564</td><td>cg04195702</td><td>1</td><td>838486</td><td>cg04195702</td><td>-</td><td>-0.0287072</td><td>0.00411205</td><td>2.92572e-12</td></tr>\n",
       "\t<tr><td>rs28594623</td><td>1</td><td>833641</td><td>T</td><td>C</td><td>0.298658</td><td>cg04195702</td><td>1</td><td>838486</td><td>cg04195702</td><td>-</td><td> 0.0304807</td><td>0.00477624</td><td>1.75091e-10</td></tr>\n",
       "\t<tr><td>rs28522102</td><td>1</td><td>833659</td><td>T</td><td>A</td><td>0.298658</td><td>cg04195702</td><td>1</td><td>838486</td><td>cg04195702</td><td>-</td><td> 0.0304807</td><td>0.00477624</td><td>1.75091e-10</td></tr>\n",
       "\t<tr><td>rs28416910</td><td>1</td><td>833663</td><td>A</td><td>G</td><td>0.298658</td><td>cg04195702</td><td>1</td><td>838486</td><td>cg04195702</td><td>-</td><td> 0.0304807</td><td>0.00477624</td><td>1.75091e-10</td></tr>\n",
       "</tbody>\n",
       "</table>\n"
      ],
      "text/latex": [
       "A data.table: 6 × 14\n",
       "\\begin{tabular}{llllllllllllll}\n",
       " SNP & Chr & BP & A1 & A2 & Freq & Probe & Probe\\_Chr & Probe\\_bp & Gene & Orientation & b & SE & p\\\\\n",
       " <chr> & <int> & <int> & <chr> & <chr> & <dbl> & <chr> & <int> & <int> & <chr> & <chr> & <dbl> & <dbl> & <dbl>\\\\\n",
       "\\hline\n",
       "\t rs12562034 & 1 & 768448 & G & A & 0.116438 & cg23100540 & 1 & 805554 & cg23100540 & + & -0.0924605 & 0.01462790 & 2.60174e-10\\\\\n",
       "\t rs72631880 & 1 & 805556 & T & A & 0.116438 & cg23100540 & 1 & 805554 & cg23100540 & + & -0.1014630 & 0.01424680 & 1.06551e-12\\\\\n",
       "\t rs9697378  & 1 & 832060 & G & A & 0.684564 & cg04195702 & 1 & 838486 & cg04195702 & - & -0.0287072 & 0.00411205 & 2.92572e-12\\\\\n",
       "\t rs28594623 & 1 & 833641 & T & C & 0.298658 & cg04195702 & 1 & 838486 & cg04195702 & - &  0.0304807 & 0.00477624 & 1.75091e-10\\\\\n",
       "\t rs28522102 & 1 & 833659 & T & A & 0.298658 & cg04195702 & 1 & 838486 & cg04195702 & - &  0.0304807 & 0.00477624 & 1.75091e-10\\\\\n",
       "\t rs28416910 & 1 & 833663 & A & G & 0.298658 & cg04195702 & 1 & 838486 & cg04195702 & - &  0.0304807 & 0.00477624 & 1.75091e-10\\\\\n",
       "\\end{tabular}\n"
      ],
      "text/markdown": [
       "\n",
       "A data.table: 6 × 14\n",
       "\n",
       "| SNP &lt;chr&gt; | Chr &lt;int&gt; | BP &lt;int&gt; | A1 &lt;chr&gt; | A2 &lt;chr&gt; | Freq &lt;dbl&gt; | Probe &lt;chr&gt; | Probe_Chr &lt;int&gt; | Probe_bp &lt;int&gt; | Gene &lt;chr&gt; | Orientation &lt;chr&gt; | b &lt;dbl&gt; | SE &lt;dbl&gt; | p &lt;dbl&gt; |\n",
       "|---|---|---|---|---|---|---|---|---|---|---|---|---|---|\n",
       "| rs12562034 | 1 | 768448 | G | A | 0.116438 | cg23100540 | 1 | 805554 | cg23100540 | + | -0.0924605 | 0.01462790 | 2.60174e-10 |\n",
       "| rs72631880 | 1 | 805556 | T | A | 0.116438 | cg23100540 | 1 | 805554 | cg23100540 | + | -0.1014630 | 0.01424680 | 1.06551e-12 |\n",
       "| rs9697378  | 1 | 832060 | G | A | 0.684564 | cg04195702 | 1 | 838486 | cg04195702 | - | -0.0287072 | 0.00411205 | 2.92572e-12 |\n",
       "| rs28594623 | 1 | 833641 | T | C | 0.298658 | cg04195702 | 1 | 838486 | cg04195702 | - |  0.0304807 | 0.00477624 | 1.75091e-10 |\n",
       "| rs28522102 | 1 | 833659 | T | A | 0.298658 | cg04195702 | 1 | 838486 | cg04195702 | - |  0.0304807 | 0.00477624 | 1.75091e-10 |\n",
       "| rs28416910 | 1 | 833663 | A | G | 0.298658 | cg04195702 | 1 | 838486 | cg04195702 | - |  0.0304807 | 0.00477624 | 1.75091e-10 |\n",
       "\n"
      ],
      "text/plain": [
       "  SNP        Chr BP     A1 A2 Freq     Probe      Probe_Chr Probe_bp Gene      \n",
       "1 rs12562034 1   768448 G  A  0.116438 cg23100540 1         805554   cg23100540\n",
       "2 rs72631880 1   805556 T  A  0.116438 cg23100540 1         805554   cg23100540\n",
       "3 rs9697378  1   832060 G  A  0.684564 cg04195702 1         838486   cg04195702\n",
       "4 rs28594623 1   833641 T  C  0.298658 cg04195702 1         838486   cg04195702\n",
       "5 rs28522102 1   833659 T  A  0.298658 cg04195702 1         838486   cg04195702\n",
       "6 rs28416910 1   833663 A  G  0.298658 cg04195702 1         838486   cg04195702\n",
       "  Orientation b          SE         p          \n",
       "1 +           -0.0924605 0.01462790 2.60174e-10\n",
       "2 +           -0.1014630 0.01424680 1.06551e-12\n",
       "3 -           -0.0287072 0.00411205 2.92572e-12\n",
       "4 -            0.0304807 0.00477624 1.75091e-10\n",
       "5 -            0.0304807 0.00477624 1.75091e-10\n",
       "6 -            0.0304807 0.00477624 1.75091e-10"
      ]
     },
     "metadata": {},
     "output_type": "display_data"
    }
   ],
   "source": [
    "head(male)"
   ]
  },
  {
   "cell_type": "code",
   "execution_count": 4,
   "id": "84dcf4f4-fed8-4ec9-89f5-7f5f01bae759",
   "metadata": {},
   "outputs": [],
   "source": []
  },
  {
   "cell_type": "code",
   "execution_count": null,
   "id": "229c52e4-7558-4d9e-8641-a59fdbd629ee",
   "metadata": {},
   "outputs": [],
   "source": []
  }
 ],
 "metadata": {
  "kernelspec": {
   "display_name": "R [conda env:misc_bio]",
   "language": "R",
   "name": "conda-env-misc_bio-r"
  },
  "language_info": {
   "codemirror_mode": "r",
   "file_extension": ".r",
   "mimetype": "text/x-r-source",
   "name": "R",
   "pygments_lexer": "r",
   "version": "4.1.0"
  },
  "widgets": {
   "application/vnd.jupyter.widget-state+json": {
    "state": {},
    "version_major": 2,
    "version_minor": 0
   }
  }
 },
 "nbformat": 4,
 "nbformat_minor": 5
}
